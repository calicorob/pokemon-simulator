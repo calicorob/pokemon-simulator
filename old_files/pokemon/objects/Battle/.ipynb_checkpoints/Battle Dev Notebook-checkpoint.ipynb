{
 "cells": [
  {
   "cell_type": "code",
   "execution_count": 1,
   "metadata": {},
   "outputs": [],
   "source": [
    "import random \n",
    "import math\n",
    "\n",
    "from pokemon.objects.Status import Poison,Burn\n",
    "from pokemon.objects.Pokemon import Pokemon\n"
   ]
  },
  {
   "cell_type": "code",
   "execution_count": 18,
   "metadata": {},
   "outputs": [],
   "source": [
    "charmy = Pokemon('Charmander',5)\n",
    "\n",
    "charmy.setMove('Scratch')\n",
    "charmy.setMove('Growl')\n",
    "charmy.setMove('Ember')\n",
    "\n",
    "bulby = Pokemon('Bulbasaur',5)\n",
    "\n",
    "bulby.setMove('Tackle')\n",
    "bulby.setMove('Growl')\n",
    "bulby.setMove('Vine Whip')\n",
    "\n",
    "pokemons = [charmy,bulby]\n",
    "\n",
    "\n",
    "pokemon_one = pokemons[0]\n",
    "pokemon_two = pokemons[1]\n",
    "\n",
    "pokemon_one.setBattleStats()\n",
    "pokemon_two.setBattleStats()"
   ]
  },
  {
   "cell_type": "code",
   "execution_count": 19,
   "metadata": {},
   "outputs": [
    {
     "data": {
      "text/plain": [
       "{Charmander: 19, Bulbasaur: 20}"
      ]
     },
     "execution_count": 19,
     "metadata": {},
     "output_type": "execute_result"
    }
   ],
   "source": [
    "health = {pokemon_one:pokemon_one.battleStats['HP'],pokemon_two:pokemon_two.battleStats['HP']}\n",
    "health"
   ]
  },
  {
   "cell_type": "code",
   "execution_count": 28,
   "metadata": {},
   "outputs": [],
   "source": [
    "def pick_move(pokemons):\n",
    "    p_one = pokemons[0]\n",
    "    p_two = pokemons[1]\n",
    "    \n",
    "    return {\n",
    "        \n",
    "         p_one:p_one.moves[random.choice(list(p_one.moves))]\n",
    "        ,p_two:p_two.moves[random.choice(list(p_two.moves))]\n",
    "        \n",
    "        \n",
    "    }\n",
    "\n",
    "\n",
    "def pick_order(pokemons,attacks):\n",
    "    p_one = pokemons[0]\n",
    "    p_two = pokemons[1]\n",
    "    \n",
    "    \n",
    "    p_one_attack = attacks[p_one]\n",
    "    p_two_attack = attacks[p_two]\n",
    "\n",
    "    if p_one_attack.priority == p_two_attack.priority:\n",
    "   \n",
    "        if p_one.getSpeed() != p_two.getSpeed():\n",
    "       \n",
    "            order = sorted(pokemons,key=lambda x: x.getSpeed())\n",
    "    \n",
    "        else:\n",
    "            order = random.choice(pokemons)\n",
    "            if p_one not in order:\n",
    "                order.append(p_one)\n",
    "            else:\n",
    "                order.append(p_two)\n",
    "                \n",
    "    elif p_one_attack.priority > p_two_attack.priority:\n",
    "        order = [p_one,p_two]\n",
    "    else:\n",
    "        order = [p_two,p_one]\n",
    "        \n",
    "    return order"
   ]
  },
  {
   "cell_type": "code",
   "execution_count": 31,
   "metadata": {},
   "outputs": [
    {
     "data": {
      "text/plain": [
       "[Bulbasaur, Charmander]"
      ]
     },
     "execution_count": 31,
     "metadata": {},
     "output_type": "execute_result"
    }
   ],
   "source": [
    "pick_order(pokemons,pick_move(pokemons))"
   ]
  },
  {
   "cell_type": "code",
   "execution_count": 32,
   "metadata": {},
   "outputs": [
    {
     "name": "stdout",
     "output_type": "stream",
     "text": [
      "{Charmander: <pokemon.objects.Moves.NormalMove object at 0x0000027C5E7DF0C8>, Bulbasaur: <pokemon.objects.Moves.StatusMove object at 0x0000027C5E7DF2C8>}\n"
     ]
    }
   ],
   "source": [
    "attacks = {\n",
    "     pokemon_one:pokemon_one.moves[random.choice(list(pokemon_one.moves))]\n",
    "    ,pokemon_two:pokemon_two.moves[random.choice(list(pokemon_two.moves))]\n",
    "}\n",
    "\n",
    "\n",
    "\n",
    "print(attacks)\n",
    "## this can be made into a function which accepts a pokemon objet"
   ]
  },
  {
   "cell_type": "code",
   "execution_count": 26,
   "metadata": {},
   "outputs": [
    {
     "name": "stdout",
     "output_type": "stream",
     "text": [
      "priority matches\n",
      "one pokemon is faster\n",
      "[Bulbasaur, Charmander]\n"
     ]
    }
   ],
   "source": [
    "p_one_attack = attacks[pokemon_one]\n",
    "p_two_attack = attacks[pokemon_two]\n",
    "\n",
    "if p_one_attack.priority == p_two_attack.priority:\n",
    "    print('priority matches')\n",
    "    if pokemon_one.getSpeed() != pokemon_two.getSpeed():\n",
    "        print('one pokemon is faster')\n",
    "        order = sorted(pokemons,key=lambda x: x.getSpeed())\n",
    "        print(order)\n",
    "    else:\n",
    "        order = random.choice(pokemons)\n",
    "        if pokemon_one not in order:\n",
    "            order.append(pokemon_one)\n",
    "        else:\n",
    "            order.append(pokemon_two)\n",
    "elif p_one_attack.priority > p_two_attack.priority:\n",
    "    order = [pokemon_one,pokemon_two]\n",
    "else:\n",
    "    order = [pokemon_two,pokemon_one]\n",
    "    "
   ]
  },
  {
   "cell_type": "code",
   "execution_count": 27,
   "metadata": {},
   "outputs": [
    {
     "name": "stdout",
     "output_type": "stream",
     "text": [
      "Charmander Bulbasaur\n"
     ]
    }
   ],
   "source": [
    "first_pokemon = order.pop()\n",
    "second_pokemon = order.pop()\n",
    "\n",
    "print(first_pokemon,second_pokemon)"
   ]
  },
  {
   "cell_type": "code",
   "execution_count": null,
   "metadata": {},
   "outputs": [],
   "source": [
    "first_pokemo"
   ]
  }
 ],
 "metadata": {
  "kernelspec": {
   "display_name": "Python 3",
   "language": "python",
   "name": "python3"
  },
  "language_info": {
   "codemirror_mode": {
    "name": "ipython",
    "version": 3
   },
   "file_extension": ".py",
   "mimetype": "text/x-python",
   "name": "python",
   "nbconvert_exporter": "python",
   "pygments_lexer": "ipython3",
   "version": "3.7.9"
  }
 },
 "nbformat": 4,
 "nbformat_minor": 4
}
