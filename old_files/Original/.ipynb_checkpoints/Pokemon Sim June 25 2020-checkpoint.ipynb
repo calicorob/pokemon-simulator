{
 "cells": [
  {
   "cell_type": "markdown",
   "metadata": {},
   "source": [
    "# Pokemon Monte Carlo Simulator Dev Notebook\n",
    "## Date: June 25, 2020\n",
    "### Author: Robert Currie"
   ]
  },
  {
   "cell_type": "markdown",
   "metadata": {},
   "source": [
    "## Importing required libraries"
   ]
  },
  {
   "cell_type": "code",
   "execution_count": 6,
   "metadata": {},
   "outputs": [],
   "source": [
    "import json\n",
    "import random\n",
    "import math\n",
    "\n",
    "\n",
    "import matplotlib.pyplot as plt\n",
    "import numpy as np\n",
    "\n",
    "import pandas as pd\n",
    "\n",
    "from itertools import combinations"
   ]
  },
  {
   "cell_type": "markdown",
   "metadata": {},
   "source": [
    "## Loading JSON and dictionaries"
   ]
  },
  {
   "cell_type": "code",
   "execution_count": 7,
   "metadata": {},
   "outputs": [
    {
     "data": {
      "text/plain": [
       "['Bulbasaur',\n",
       " 'BulbasaurClone',\n",
       " 'Charmander',\n",
       " 'Squirtle',\n",
       " 'CharmanderClone',\n",
       " 'SquirtleClone',\n",
       " 'Caterpie',\n",
       " 'Pikachu',\n",
       " 'Eevee',\n",
       " 'PikachuClone',\n",
       " 'EeveeClone',\n",
       " 'Geodude']"
      ]
     },
     "execution_count": 7,
     "metadata": {},
     "output_type": "execute_result"
    }
   ],
   "source": [
    "with open(\"pokemon.json\") as file:\n",
    "    pokemon = json.load(file)\n",
    "list(pokemon)"
   ]
  },
  {
   "cell_type": "code",
   "execution_count": 8,
   "metadata": {},
   "outputs": [
    {
     "data": {
      "text/plain": [
       "['Fire',\n",
       " 'Water',\n",
       " 'Grass',\n",
       " 'Poison',\n",
       " 'Bug',\n",
       " 'Electric',\n",
       " 'Normal',\n",
       " 'Rock',\n",
       " 'Ground']"
      ]
     },
     "execution_count": 8,
     "metadata": {},
     "output_type": "execute_result"
    }
   ],
   "source": [
    "with open(\"types.json\") as file:\n",
    "    types = json.load(file)\n",
    "list(types)"
   ]
  },
  {
   "cell_type": "code",
   "execution_count": 9,
   "metadata": {},
   "outputs": [
    {
     "data": {
      "text/plain": [
       "['Tackle',\n",
       " 'Tail Whip',\n",
       " 'Scratch',\n",
       " 'Growl',\n",
       " 'Water Gun',\n",
       " 'Ember',\n",
       " 'Vine Whip',\n",
       " 'String Shot',\n",
       " 'Thundershock',\n",
       " 'Defense Curl']"
      ]
     },
     "execution_count": 9,
     "metadata": {},
     "output_type": "execute_result"
    }
   ],
   "source": [
    "with open(\"moves.json\") as file:\n",
    "    moves = json.load(file)\n",
    "list(moves)"
   ]
  },
  {
   "cell_type": "code",
   "execution_count": 10,
   "metadata": {},
   "outputs": [],
   "source": [
    "## for super / not effective \n",
    "typeMultiplier = {-2:0.25,-1:0.5,0:1,1:2,2:4}\n",
    "## for stat changes\n",
    "statsMultiplier = {-6:0.25,-5:0.28,-4:0.33,-3:0.4,-2:0.5,-1:0.66,0:1,1:1.5,2:2,3:2.5,4:3,5:3.5,6:4}"
   ]
  },
  {
   "cell_type": "markdown",
   "metadata": {},
   "source": [
    "## Classes"
   ]
  },
  {
   "cell_type": "markdown",
   "metadata": {},
   "source": [
    "### Pokemon"
   ]
  },
  {
   "cell_type": "code",
   "execution_count": 11,
   "metadata": {},
   "outputs": [],
   "source": [
    "class Pokemon(object):\n",
    "    def __init__(self,name,level=1):\n",
    "        \n",
    "        ## BASE STATS & TYPE\n",
    "        self.name = name\n",
    "        self.level = level\n",
    "        self.type = pokemon[self.name]['Type']\n",
    "        self.baseStats = pokemon[self.name]['Base Stats']\n",
    "        \n",
    "        \n",
    "        \n",
    "        ## INDIVIDUAL VALUES\n",
    "      \n",
    "        self.IV = {}\n",
    "        health = \"\"\n",
    "        for cat in ['Attack','Defense','Speed','Special']:\n",
    "            self.IV[cat] = random.choice(range(16))\n",
    "            health = health + '{0:b}'.format(self.IV[cat])[-1]       \n",
    "        self.IV['HP'] = int(health,2)\n",
    "        \n",
    "        \n",
    "            \n",
    "        ## ALL STATS EXCEPT FOR HEALTH SINCE IT'S A SPECIAL CASE    \n",
    "        \n",
    "        self.stats = {}\n",
    "        for cat in ['Attack','Defense','Speed','Special']:\n",
    "            baseStat = self.baseStats[cat]\n",
    "            ivStat = self.IV[cat]\n",
    "            self.stats[cat] = math.floor((baseStat + ivStat)*2 *self.level/100 + 5 )\n",
    "            \n",
    "        self.stats['Accuracy'] = 1\n",
    "        self.stats['Evasion'] = 1\n",
    "            \n",
    "            \n",
    "            \n",
    "        ## HEALTH STAT \n",
    "            \n",
    "        baseStat = self.baseStats['HP']\n",
    "        ivStat = self.IV['HP']\n",
    "        self.stats['HP'] = math.floor((baseStat + ivStat)*2 *self.level/100 + self.level+10)\n",
    "        \n",
    "        \n",
    "        self.setBattleStats()\n",
    "            \n",
    "    \n",
    "          ## MOVES\n",
    "        self.moves = {}\n",
    "     \n",
    "    \n",
    "    def __repr__(self):\n",
    "        return self.name\n",
    "        \n",
    "        \n",
    "    def setMove(self,move):\n",
    "        if len(self.moves) <= 4:\n",
    "            self.moves[move] = makeMove(move)\n",
    "        else:\n",
    "            print(self.name + \" already has 4 moves!\")\n",
    "            \n",
    "            \n",
    "    def setBattleStats(self):\n",
    "        self.battleStats = {}\n",
    "            \n",
    "        for cat in ['Attack','Defense','Speed','Special','Accuracy','Evasion']:\n",
    "            self.battleStats[cat] = [self.stats[cat],0]\n",
    "            \n",
    "    \n",
    "        self.battleStats['HP'] = self.stats['HP']\n",
    "            \n",
    "        self.status = Normal()\n",
    "            \n",
    "            \n",
    "    def missAttack(self,other,move):\n",
    "        \n",
    "        accuracy = self.battleStats['Accuracy'][0]\n",
    "        evasion = other.battleStats['Evasion'][0]\n",
    "        \n",
    "        threshold = math.floor(move.accuracy*255)*accuracy*evasion\n",
    "        \n",
    "        rand = random.randint(0,255)\n",
    "        \n",
    "        if rand < threshold:\n",
    "            return False ## attack hits\n",
    "        else:\n",
    "            return True ## attack misses\n",
    "        \n",
    "        \n",
    "    def isCritHit(self,move):\n",
    "        speed = self.baseStats['Speed']\n",
    "        critRatio = move.critRatio\n",
    "        \n",
    "        \n",
    "        threshold = math.floor(speed*critRatio/2)\n",
    "        rand = random.randint(0,255)\n",
    "        \n",
    "        if rand < threshold:\n",
    "            return True\n",
    "        else:\n",
    "            return False \n",
    "        \n",
    "    def calculateTypeModifier(self,other,move):\n",
    "        count = 0\n",
    "        oppType = other.type\n",
    "        moveType = move.type\n",
    "        \n",
    "        for opType in oppType:\n",
    "            if moveType in types[opType]['Resistance']:\n",
    "                count -=1\n",
    "                \n",
    "            if moveType in types[opType]['Weakness']:\n",
    "                count +=1\n",
    "                \n",
    "        return typeMultiplier[count]\n",
    "                \n",
    "        \n",
    "            \n",
    "        \n",
    "    def calculateModifier(self,other,move):\n",
    "        \n",
    "        \n",
    "        ## NON GEN1 FACTORS\n",
    "        targets = 1\n",
    "        weather = 1\n",
    "        badge = 1\n",
    "        critical = 1\n",
    "        \n",
    "        if move.type in self.type:\n",
    "            stab = 1.5\n",
    "        else:\n",
    "            stab = 1\n",
    "            \n",
    "        typeM = self.calculateTypeModifier(other,move) \n",
    "        \n",
    "        rand = random.randint(217,255) / 255\n",
    "        \n",
    "        \n",
    "        \n",
    "        return targets*weather*badge*critical*stab*typeM*rand\n",
    "        \n",
    "    def calculateDamage(self,other,move):\n",
    "        \n",
    "        isCrit = self.isCritHit(move)\n",
    "        \n",
    "        if isCrit:\n",
    "            level = self.level*2\n",
    "            #print('Critical Hit')\n",
    "            \n",
    "            \n",
    "            if move.category == 'Physical':\n",
    "                attack = self.stats['Attack']\n",
    "                defense = other.stats['Defense']\n",
    "                \n",
    "            else:\n",
    "                attack = self.stats['Special']\n",
    "                defense = other.stats['Special']\n",
    "                \n",
    "            \n",
    "        else:\n",
    "            level = self.level\n",
    "            \n",
    "            if move.category == 'Physical':\n",
    "                attack = self.battleStats['Attack'][0] * statsMultiplier[self.battleStats['Attack'][1]]\n",
    "                defense = other.battleStats['Defense'][0] * statsMultiplier[other.battleStats['Defense'][1]]\n",
    "            else:\n",
    "                attack = self.battleStats['Special'][0] * statsMultiplier[self.battleStats['Special'][1]]\n",
    "                defense = other.battleStats['Special'][0] * statsMultiplier[other.battleStats['Special'][1]]\n",
    "                \n",
    "                \n",
    "        \n",
    "        modifier =  self.calculateModifier(other,move)\n",
    "        power = move.power\n",
    "        \n",
    "        return math.floor(((2*level/5 + 2)*power*attack/defense/50 + 2) * modifier)\n",
    "                \n",
    "        \n",
    "    def receiveDamage(self,damage):\n",
    "        self.battleStats['HP'] -= damage\n",
    "        \n",
    "        if self.battleStats['HP'] < 0:\n",
    "            self.battleStats['HP'] =0\n",
    "\n",
    "        \n",
    "    def attack(self,other,moveName):\n",
    "        \n",
    "        if self.status.canMove():\n",
    "            \n",
    "        \n",
    "            move = self.moves[moveName]\n",
    "\n",
    "\n",
    "            ## damaging attack\n",
    "            if move.category in ['Physical','Special']:\n",
    "                #print(self.name + ' used '+ move.name)\n",
    "                damage = self.calculateDamage(other,move)\n",
    "\n",
    "                if not self.missAttack(other,move):\n",
    "                    other.receiveDamage(damage)\n",
    "\n",
    "                    #print(self.name + ' inflicted ' + str(damage) + ' damage')\n",
    "                    if isinstance(move,ParalyzingMove):\n",
    "                        if move.doesParalyze() and isinstance(other.status,Normal):\n",
    "                            move.paralyze(other)\n",
    "                            #print(other.name + ' was paralyzed')\n",
    "                    elif isinstance(move,BurnMove):\n",
    "                        if move.doesBurn() and isinstance(other.status,Normal) and 'Fire' not in other.type:\n",
    "                            move.burn(other)\n",
    "                            #print(other.name + ' was burned')\n",
    "                else:\n",
    "                    #print(self.name + ' missed')\n",
    "                    pass\n",
    "            ## stat changing move \n",
    "            else:\n",
    "                ## targets the opponent pokemon\n",
    "                #print(self.name + ' used ' + move.name)\n",
    "                if move.target:\n",
    "                    if not self.missAttack(other,move):\n",
    "                        receiveStatusModifier(other,move)\n",
    "\n",
    "                ## targets self (raises stats)\n",
    "                else:\n",
    "                    receiveStatusModifier(self,move)\n",
    "\n",
    "        else:\n",
    "            pass\n",
    "            #print(self.name + ' is fully paralyzed')\n",
    "            \n",
    "                \n",
    "    def getSpeed(self):\n",
    "        return self.battleStats['Speed'][0] * statsMultiplier[self.battleStats['Speed'][1]]\n",
    "    \n",
    "    \n",
    "def receiveStatusModifier(pokemon,move):\n",
    "    if move.stages < 0:\n",
    "        if pokemon.battleStats[move.affects][1] > -6:\n",
    "            pokemon.battleStats[move.affects][1] += move.stages\n",
    "            if pokemon.battleStats[move.affects][1] < -6:\n",
    "                pokemon.battleStats[move.affects][1] = -6\n",
    "    else:\n",
    "        if pokemon.battleStats[move.affects][1] < 6:\n",
    "            pokemon.battleStats[move.affects][1] += move.stages\n",
    "            if pokemon.battleStats[move.affects][1] > 6:\n",
    "                pokemon.battleStats[move.affects][1] = 6\n",
    "                \n",
    "                \n"
   ]
  },
  {
   "cell_type": "code",
   "execution_count": null,
   "metadata": {},
   "outputs": [],
   "source": []
  },
  {
   "cell_type": "markdown",
   "metadata": {},
   "source": [
    "## Status"
   ]
  },
  {
   "cell_type": "code",
   "execution_count": 12,
   "metadata": {},
   "outputs": [],
   "source": [
    "class Status(object):\n",
    "    def __init__(self):\n",
    "        self.threshold = 1\n",
    "        \n",
    "    def canMove(self):\n",
    "        rand = random.random()\n",
    "        \n",
    "        if rand <= self.threshold:\n",
    "            return True ## can move\n",
    "        else:\n",
    "            return False ## can't move\n",
    "\n",
    "class Poison(Status):\n",
    "    def __init__(self,pokemon):\n",
    "        self.damage = math.floor(pokemon.stats['HP'] / 16)\n",
    "        if self.damage < 1:\n",
    "            self.damage = 1\n",
    "        \n",
    "    def doDamage(self,pokemon):\n",
    "        pokemon.receiveDamage(self.damage)\n",
    "        \n",
    "class Paralysis(Status):\n",
    "    def __init__(self,pokemon):\n",
    "        pokemon.battleStats['Speed'][0] = math.floor(pokemon.stats['Speed'] * 0.75)\n",
    "        self.threshold = 0.75\n",
    "        \n",
    "            \n",
    "\n",
    "class Burn(Status):\n",
    "    def __init__(self,pokemon):\n",
    "        self.damage = math.floor(pokemon.stats['HP'] / 16)\n",
    "        if self.damage < 1:\n",
    "            self.damage = 1\n",
    "        self.threshold = 1\n",
    "    \n",
    "        pokemon.battleStats['Attack'][0] = math.floor(pokemon.stats['Attack'] * 0.5)\n",
    "        \n",
    "    def doDamage(self,pokemon):\n",
    "        #print('Burn does' + str(self.damage) + 'damage')\n",
    "        pokemon.receiveDamage(self.damage)\n",
    "\n",
    "class Frozen(Status):\n",
    "    def __init__(self):\n",
    "        self.threshold = 0\n",
    "\n",
    "class Normal(Status):\n",
    "    pass\n",
    "\n",
    "class Asleep(object):\n",
    "    def __init__(self):\n",
    "        self.turns = random.randint(1,7)"
   ]
  },
  {
   "cell_type": "code",
   "execution_count": null,
   "metadata": {},
   "outputs": [],
   "source": []
  },
  {
   "cell_type": "markdown",
   "metadata": {},
   "source": [
    "### Moves"
   ]
  },
  {
   "cell_type": "code",
   "execution_count": 13,
   "metadata": {},
   "outputs": [],
   "source": [
    "class Move(object):\n",
    "    def __init__(self,name):\n",
    "        self.name = name\n",
    "        \n",
    "        self.type = moves[name]['Type']\n",
    "        self.category = moves[name]['Category']\n",
    "        self.accuracy = moves[name]['Accuracy']\n",
    "        self.PP = moves[name]['PP']\n",
    "        \n",
    "        \n",
    "class NormalMove(Move):\n",
    "    def __init__(self,name):\n",
    "        super().__init__(name)\n",
    "        self.power = moves[name]['Power']\n",
    "        self.critRatio = moves[name]['CritRatio']\n",
    "        \n",
    "class PhysicalMove(Move):\n",
    "    def __init__(self,name):\n",
    "        super().__init__(name)\n",
    "        self.power = moves[name]['Power']\n",
    "        self.critRatio = moves[name]['CritRatio']\n",
    "        \n",
    "class SpecialMove(Move):\n",
    "    def __init__(self,name):\n",
    "        super().__init__(name)\n",
    "        self.power = moves[name]['Power']\n",
    "        self.critRatio = moves[name]['CritRatio']\n",
    "                \n",
    "class ParalyzingMove(Move):\n",
    "    def __init__(self,name):\n",
    "        super().__init__(name)\n",
    "        self.power = moves[name]['Power']\n",
    "        self.critRatio = moves[name]['CritRatio']\n",
    "        self.chance = moves[name]['Chance']\n",
    "        \n",
    "        \n",
    "    def doesParalyze(self):\n",
    "        threshold = self.chance\n",
    "        \n",
    "        rand = random.random()\n",
    "        \n",
    "        if rand > threshold:\n",
    "            return False ## doesn't paralyze\n",
    "        else:\n",
    "            return True ## paralyzes\n",
    "        \n",
    "        \n",
    "    def paralyze(self,pokemon):\n",
    "        pokemon.status = Paralysis(pokemon)\n",
    "        \n",
    "class BurnMove(Move):\n",
    "    def __init__(self,name):\n",
    "        super().__init__(name)\n",
    "        self.power = moves[name]['Power']\n",
    "        self.critRatio = moves[name]['CritRatio']\n",
    "        self.chance = moves[name]['Chance']\n",
    "        \n",
    "    def doesBurn(self):\n",
    "        threshold = self.chance\n",
    "        rand = random.random()\n",
    "        \n",
    "        if rand > threshold:\n",
    "            return False ## doesn't burn\n",
    "        else:\n",
    "            return True\n",
    "        \n",
    "    def burn(self,pokemon):\n",
    "        pokemon.status = Burn(pokemon)\n",
    "        \n",
    "\n",
    "class StatusMove(Move):\n",
    "    def __init__(self,name):\n",
    "        super().__init__(name)\n",
    "        self.affects = moves[name]['Affects']\n",
    "        self.stages = moves[name]['Stages']\n",
    "        self.target = moves[name]['Target']\n",
    "        \n",
    "def makeMove(name):\n",
    "    \n",
    "    cat = moves[name]['Category']\n",
    "    \n",
    "    try:\n",
    "        aff = moves[name]['Affliction']\n",
    "    except KeyError:\n",
    "        aff = None\n",
    "        \n",
    "    if aff:\n",
    "        if aff == 'Burn':\n",
    "            return BurnMove(name)\n",
    "        elif aff == 'Paralysis':\n",
    "            return ParalyzingMove(name)\n",
    "        \n",
    "    else:\n",
    "        \n",
    "        if cat == 'Physical' or cat == 'Special':\n",
    "            return NormalMove(name)\n",
    "        else:\n",
    "            return StatusMove(name)\n"
   ]
  },
  {
   "cell_type": "markdown",
   "metadata": {},
   "source": [
    "## Battle"
   ]
  },
  {
   "cell_type": "code",
   "execution_count": 14,
   "metadata": {},
   "outputs": [],
   "source": [
    "def battles(pokemons,numBattles=100):\n",
    "    score = {pokemons[0][0]:0,pokemons[1][0]:0}\n",
    "    \n",
    "    for i in range(numBattles):\n",
    "        pokemon = []\n",
    "        for i,tup in enumerate(pokemons):\n",
    "            pokemon.append(Pokemon(tup[0],tup[1]))\n",
    "        \n",
    "            for move in tup[2]:\n",
    "                pokemon[i].setMove(move)\n",
    "        \n",
    "        winner = battle(pokemon)\n",
    "        score[winner] += 1\n",
    "        \n",
    "        \n",
    "    for key in score.keys():\n",
    "        p = score[key]/numBattles\n",
    "        score[key] = [p,math.sqrt(p*(1-p)/numBattles)]\n",
    "        \n",
    "        \n",
    "    return score"
   ]
  },
  {
   "cell_type": "code",
   "execution_count": 15,
   "metadata": {},
   "outputs": [],
   "source": [
    "def battle(pokemons,verbose=False):\n",
    "    \"\"\"\n",
    "        pokemons: list of pokemon to do battle\n",
    "    \n",
    "    \"\"\"\n",
    "    \n",
    "    \n",
    "    def getOrder(pokemons):\n",
    "    \n",
    "        if pokemons[0].getSpeed() != pokemons[1].getSpeed():\n",
    "            lst = sorted(pokemons,key=lambda x: x.getSpeed())\n",
    "        else:\n",
    "            lst = [random.choice(pokemons)]\n",
    "            if pokemons[0] not in lst:\n",
    "                lst.append(pokemons[0])\n",
    "            else:\n",
    "                lst.append(pokemons[1])\n",
    "                \n",
    "        return lst\n",
    "    \n",
    "    def isBattleOver(pokemons):\n",
    "        for pokemon in pokemons:\n",
    "            if pokemon.battleStats['HP'] <= 0:\n",
    "                return True\n",
    "        return False\n",
    "    \n",
    "    \n",
    "    \n",
    "    for pokemon in pokemons:\n",
    "        pokemon.setBattleStats()\n",
    "        \n",
    "    health = {pokemons[0]:[pokemons[0].battleStats['HP']],pokemons[1]:[pokemons[1].battleStats['HP']]}\n",
    "    \n",
    "    while True:\n",
    "        order = getOrder(pokemons)\n",
    "        \n",
    "        firstToGo = order.pop()\n",
    "        secondToGo = order.pop()\n",
    "        \n",
    "        firstToGo.attack(secondToGo,random.choice(list(firstToGo.moves))) ## this is stupid as hell will change later but lazy now\n",
    "        \n",
    "        if isBattleOver(pokemons):\n",
    "                health[pokemons[0]].append(pokemons[0].battleStats['HP'])\n",
    "                health[pokemons[1]].append(pokemons[1].battleStats['HP'])\n",
    "                break\n",
    "                \n",
    "        if isinstance(firstToGo.status,(Poison,Burn)):\n",
    "            firstToGo.status.doDamage(firstToGo)\n",
    "        \n",
    "        if isBattleOver(pokemons):\n",
    "                health[pokemons[0]].append(pokemons[0].battleStats['HP'])\n",
    "                health[pokemons[1]].append(pokemons[1].battleStats['HP'])\n",
    "                break\n",
    "                \n",
    "        secondToGo.attack(firstToGo,random.choice(list(secondToGo.moves))) ## this is stupid as hell will change later but lazy now\n",
    "        \n",
    "        if isBattleOver(pokemons):\n",
    "                health[pokemons[0]].append(pokemons[0].battleStats['HP'])\n",
    "                health[pokemons[1]].append(pokemons[1].battleStats['HP'])\n",
    "                break\n",
    "                \n",
    "        if isinstance(secondToGo.status,(Poison,Burn)):\n",
    "            secondToGo.status.doDamage(secondToGo)\n",
    "        \n",
    "        if isBattleOver(pokemons):\n",
    "                health[pokemons[0]].append(pokemons[0].battleStats['HP'])\n",
    "                health[pokemons[1]].append(pokemons[1].battleStats['HP'])\n",
    "                break\n",
    "                \n",
    "        health[pokemons[0]].append(pokemons[0].battleStats['HP'])\n",
    "        health[pokemons[1]].append(pokemons[1].battleStats['HP'])\n",
    "                \n",
    "    if health[pokemons[0]][-1] > health[pokemons[1]][-1]:\n",
    "        \n",
    "        return pokemons[0].name\n",
    "    else:\n",
    "        return pokemons[1].name\n",
    "    #return health      \n",
    "            \n",
    "    \n",
    "    "
   ]
  },
  {
   "cell_type": "markdown",
   "metadata": {},
   "source": [
    "## Testing"
   ]
  },
  {
   "cell_type": "markdown",
   "metadata": {},
   "source": [
    "### Making a Pokemon and giving it a move"
   ]
  },
  {
   "cell_type": "code",
   "execution_count": 42,
   "metadata": {},
   "outputs": [
    {
     "data": {
      "text/plain": [
       "{'Tackle': <__main__.NormalMove at 0x1c5969355c8>}"
      ]
     },
     "execution_count": 42,
     "metadata": {},
     "output_type": "execute_result"
    }
   ],
   "source": [
    "bulby = Pokemon('Bulbasaur',5)\n",
    "bulby.setMove('Tackle')\n",
    "bulby.moves"
   ]
  },
  {
   "cell_type": "code",
   "execution_count": 43,
   "metadata": {},
   "outputs": [
    {
     "data": {
      "text/plain": [
       "{'Ember': <__main__.BurnMove at 0x1c597255508>,\n",
       " 'Growl': <__main__.StatusMove at 0x1c5972550c8>}"
      ]
     },
     "execution_count": 43,
     "metadata": {},
     "output_type": "execute_result"
    }
   ],
   "source": [
    "charmy = Pokemon('Charmander',5)\n",
    "charmy.setMove('Ember')\n",
    "charmy.setMove('Growl')\n",
    "charmy.moves"
   ]
  },
  {
   "cell_type": "markdown",
   "metadata": {},
   "source": [
    "### Testing move missing mechanic"
   ]
  },
  {
   "cell_type": "code",
   "execution_count": 44,
   "metadata": {},
   "outputs": [
    {
     "data": {
      "text/plain": [
       "False"
      ]
     },
     "execution_count": 44,
     "metadata": {},
     "output_type": "execute_result"
    }
   ],
   "source": [
    "bulby.missAttack(charmy,bulby.moves['Tackle'])"
   ]
  },
  {
   "cell_type": "code",
   "execution_count": 45,
   "metadata": {},
   "outputs": [
    {
     "name": "stdout",
     "output_type": "stream",
     "text": [
      "0.00385\n"
     ]
    }
   ],
   "source": [
    "hits = []\n",
    "for i in range(100000):\n",
    "    hits.append(bulby.missAttack(charmy,bulby.moves['Tackle']))\n",
    "\n",
    "hits  = np.array(hits)\n",
    "\n",
    "print(hits.sum()/len(hits)) ## expect ~ 1/256 ~ 0.0039"
   ]
  },
  {
   "cell_type": "code",
   "execution_count": 47,
   "metadata": {},
   "outputs": [
    {
     "data": {
      "image/png": "[encoded data removed]",
      "text/plain": [
       "<Figure size 432x288 with 1 Axes>"
      ]
     },
     "metadata": {
      "needs_background": "light"
     },
     "output_type": "display_data"
    }
   ],
   "source": [
    "samples = []\n",
    "for i in range(2000):\n",
    "    hits = []\n",
    "    for i in range(1000):\n",
    "        hits.append(bulby.missAttack(charmy,bulby.moves['Tackle']))\n",
    "    \n",
    "     \n",
    "    samples.append(sum(hits)/len(hits))\n",
    "plt.hist(samples)\n",
    "plt.ylabel('Frequency',fontweight='bold',fontsize=15)\n",
    "plt.xlabel('Miss frequency',fontweight='bold',fontsize=15)\n",
    "plt.title(f'Miss frequency average: {round(sum(samples)/len(samples),5)}',fontweight='bold',fontsize=15)\n",
    "plt.savefig('Miss frequency distribution.png')\n",
    "plt.show()\n",
    "\n",
    "\n",
    "## Expected ~0.0039 \n",
    "## Got ~0.0039 \n",
    "## Looks good! "
   ]
  },
  {
   "cell_type": "markdown",
   "metadata": {},
   "source": [
    "### Testing damage calculation"
   ]
  },
  {
   "cell_type": "code",
   "execution_count": 16,
   "metadata": {},
   "outputs": [
    {
     "data": {
      "text/plain": [
       "4"
      ]
     },
     "execution_count": 16,
     "metadata": {},
     "output_type": "execute_result"
    }
   ],
   "source": [
    "bulby.calculateDamage(charmy,bulby.moves['Tackle'])"
   ]
  },
  {
   "cell_type": "code",
   "execution_count": 17,
   "metadata": {},
   "outputs": [
    {
     "data": {
      "text/plain": [
       "(array([6785.,    0.,    0.,    0.,    0., 2519.,    0.,    0.,    0.,\n",
       "         696.]),\n",
       " array([4. , 4.2, 4.4, 4.6, 4.8, 5. , 5.2, 5.4, 5.6, 5.8, 6. ]),\n",
       " <a list of 10 Patch objects>)"
      ]
     },
     "execution_count": 17,
     "metadata": {},
     "output_type": "execute_result"
    },
    {
     "data": {
      "image/png": "[encoded data removed]",
      "text/plain": [
       "<Figure size 432x288 with 1 Axes>"
      ]
     },
     "metadata": {
      "needs_background": "light"
     },
     "output_type": "display_data"
    }
   ],
   "source": [
    "hits = []\n",
    "for i in range(10000):\n",
    "    hits.append(bulby.calculateDamage(charmy,bulby.moves['Tackle']))\n",
    "plt.hist(hits)"
   ]
  },
  {
   "cell_type": "markdown",
   "metadata": {},
   "source": [
    "### Testing paralyses and burn chances"
   ]
  },
  {
   "cell_type": "code",
   "execution_count": 18,
   "metadata": {},
   "outputs": [
    {
     "data": {
      "text/plain": [
       "<__main__.ParalyzingMove at 0x28e41c1b6c8>"
      ]
     },
     "execution_count": 18,
     "metadata": {},
     "output_type": "execute_result"
    }
   ],
   "source": [
    "thundershock = makeMove('Thundershock')\n",
    "thundershock"
   ]
  },
  {
   "cell_type": "code",
   "execution_count": 19,
   "metadata": {},
   "outputs": [
    {
     "data": {
      "text/plain": [
       "False"
      ]
     },
     "execution_count": 19,
     "metadata": {},
     "output_type": "execute_result"
    }
   ],
   "source": [
    "thundershock.doesParalyze()"
   ]
  },
  {
   "cell_type": "code",
   "execution_count": 20,
   "metadata": {},
   "outputs": [],
   "source": [
    "#para = []\n",
    "#for i in range(10000):\n",
    "#    para.append(thundershock.doesParalyze())\n",
    "#print(sum(para)/len(para))\n",
    "## Expected ~0.1"
   ]
  },
  {
   "cell_type": "code",
   "execution_count": 21,
   "metadata": {},
   "outputs": [
    {
     "name": "stdout",
     "output_type": "stream",
     "text": [
      "0.1022\n"
     ]
    }
   ],
   "source": [
    "ember = makeMove('Ember')\n",
    "burn = []\n",
    "for i in range(10000):\n",
    "    burn.append(ember.doesBurn())\n",
    "print(sum(burn)/len(burn))\n",
    "## Expected ~0.1"
   ]
  },
  {
   "cell_type": "markdown",
   "metadata": {},
   "source": [
    "### Testing afflicitions"
   ]
  },
  {
   "cell_type": "code",
   "execution_count": 22,
   "metadata": {},
   "outputs": [
    {
     "data": {
      "text/plain": [
       "{'Attack': [10, 0],\n",
       " 'Defense': [10, 0],\n",
       " 'Speed': [11, 0],\n",
       " 'Special': [12, 0],\n",
       " 'Accuracy': [1, 0],\n",
       " 'Evasion': [1, 0],\n",
       " 'HP': 20}"
      ]
     },
     "execution_count": 22,
     "metadata": {},
     "output_type": "execute_result"
    }
   ],
   "source": [
    "bulby.battleStats"
   ]
  },
  {
   "cell_type": "code",
   "execution_count": 23,
   "metadata": {},
   "outputs": [
    {
     "data": {
      "text/plain": [
       "{'Attack': [5, 0],\n",
       " 'Defense': [10, 0],\n",
       " 'Speed': [11, 0],\n",
       " 'Special': [12, 0],\n",
       " 'Accuracy': [1, 0],\n",
       " 'Evasion': [1, 0],\n",
       " 'HP': 20}"
      ]
     },
     "execution_count": 23,
     "metadata": {},
     "output_type": "execute_result"
    }
   ],
   "source": [
    "ember.burn(bulby)\n",
    "bulby.battleStats"
   ]
  },
  {
   "cell_type": "code",
   "execution_count": 24,
   "metadata": {},
   "outputs": [
    {
     "data": {
      "text/plain": [
       "<__main__.Burn at 0x28e41c51348>"
      ]
     },
     "execution_count": 24,
     "metadata": {},
     "output_type": "execute_result"
    }
   ],
   "source": [
    "bulby.status"
   ]
  },
  {
   "cell_type": "code",
   "execution_count": 25,
   "metadata": {},
   "outputs": [
    {
     "data": {
      "text/plain": [
       "{'Attack': [10, 0],\n",
       " 'Defense': [10, 0],\n",
       " 'Speed': [12, 0],\n",
       " 'Special': [11, 0],\n",
       " 'Accuracy': [1, 0],\n",
       " 'Evasion': [1, 0],\n",
       " 'HP': 19}"
      ]
     },
     "execution_count": 25,
     "metadata": {},
     "output_type": "execute_result"
    }
   ],
   "source": [
    "charmy.battleStats"
   ]
  },
  {
   "cell_type": "code",
   "execution_count": 26,
   "metadata": {},
   "outputs": [
    {
     "data": {
      "text/plain": [
       "{'Attack': [10, 0],\n",
       " 'Defense': [10, 0],\n",
       " 'Speed': [9, 0],\n",
       " 'Special': [11, 0],\n",
       " 'Accuracy': [1, 0],\n",
       " 'Evasion': [1, 0],\n",
       " 'HP': 19}"
      ]
     },
     "execution_count": 26,
     "metadata": {},
     "output_type": "execute_result"
    }
   ],
   "source": [
    "thundershock.paralyze(charmy)\n",
    "charmy.battleStats"
   ]
  },
  {
   "cell_type": "code",
   "execution_count": 27,
   "metadata": {},
   "outputs": [],
   "source": [
    "charmy.attack(bulby,'Growl')"
   ]
  },
  {
   "cell_type": "code",
   "execution_count": 28,
   "metadata": {},
   "outputs": [
    {
     "data": {
      "text/plain": [
       "{'Attack': [5, -1],\n",
       " 'Defense': [10, 0],\n",
       " 'Speed': [11, 0],\n",
       " 'Special': [12, 0],\n",
       " 'Accuracy': [1, 0],\n",
       " 'Evasion': [1, 0],\n",
       " 'HP': 20}"
      ]
     },
     "execution_count": 28,
     "metadata": {},
     "output_type": "execute_result"
    }
   ],
   "source": [
    "bulby.battleStats"
   ]
  },
  {
   "cell_type": "markdown",
   "metadata": {},
   "source": [
    "### Testing paralysis move chance"
   ]
  },
  {
   "cell_type": "code",
   "execution_count": 29,
   "metadata": {},
   "outputs": [
    {
     "name": "stdout",
     "output_type": "stream",
     "text": [
      "0.75118\n"
     ]
    }
   ],
   "source": [
    "able = []\n",
    "bulby = Pokemon('Bulbasaur')\n",
    "bulby.status = Paralysis(bulby)\n",
    "for i in range(100000):\n",
    "    able.append(bulby.status.canMove())\n",
    "print(sum(able)/len(able))\n",
    "## Expected ~0.75"
   ]
  },
  {
   "cell_type": "markdown",
   "metadata": {},
   "source": [
    "### Battle Testing"
   ]
  },
  {
   "cell_type": "code",
   "execution_count": 77,
   "metadata": {},
   "outputs": [],
   "source": [
    "bulby = Pokemon('Squirtle',5)\n",
    "bulby.setMove('Tackle')\n",
    "bulby.setMove('Tail Whip')\n",
    "\n",
    "\n",
    "charmy = Pokemon('Bulbasaur',5)\n",
    "charmy.setMove('Scratch')\n",
    "charmy.setMove('Growl')"
   ]
  },
  {
   "cell_type": "code",
   "execution_count": 78,
   "metadata": {},
   "outputs": [
    {
     "data": {
      "text/plain": [
       "'Bulbasaur'"
      ]
     },
     "execution_count": 78,
     "metadata": {},
     "output_type": "execute_result"
    }
   ],
   "source": [
    "battle([bulby,charmy])"
   ]
  },
  {
   "cell_type": "code",
   "execution_count": 79,
   "metadata": {},
   "outputs": [
    {
     "data": {
      "text/plain": [
       "{'Pikachu': 0.3898, 'Eevee': 0.6102}"
      ]
     },
     "execution_count": 79,
     "metadata": {},
     "output_type": "execute_result"
    }
   ],
   "source": [
    "pokemon1 = ('Pikachu',5,['Thundershock','Growl'])\n",
    "pokemon2 = ('Eevee',5,['Tackle','Tail Whip'])\n",
    "pokemons = (pokemon1,pokemon2)\n",
    "battles(pokemons,10000)"
   ]
  },
  {
   "cell_type": "code",
   "execution_count": 80,
   "metadata": {},
   "outputs": [
    {
     "data": {
      "text/plain": [
       "{'Squirtle': 0.4949, 'Charmander': 0.5051}"
      ]
     },
     "execution_count": 80,
     "metadata": {},
     "output_type": "execute_result"
    }
   ],
   "source": [
    "pokemon1 = ('Squirtle',5,['Tackle','Tail Whip'])\n",
    "pokemon2 = ('Charmander',5,['Scratch','Growl'])\n",
    "pokemons = (pokemon1,pokemon2)\n",
    "battles(pokemons,10000)"
   ]
  },
  {
   "cell_type": "code",
   "execution_count": 34,
   "metadata": {},
   "outputs": [
    {
     "data": {
      "text/plain": [
       "{'Bulbasaur': 4279, 'Charmander': 5721}"
      ]
     },
     "execution_count": 34,
     "metadata": {},
     "output_type": "execute_result"
    }
   ],
   "source": [
    "pokemon1 = ('Bulbasaur',5,['Tackle','Growl'])\n",
    "pokemon2 = ('Charmander',5,['Scratch','Growl'])\n",
    "pokemons = (pokemon1,pokemon2)\n",
    "battles(pokemons,10000)"
   ]
  },
  {
   "cell_type": "code",
   "execution_count": 35,
   "metadata": {},
   "outputs": [
    {
     "data": {
      "text/plain": [
       "{'Bulbasaur': 4920, 'Squirtle': 5080}"
      ]
     },
     "execution_count": 35,
     "metadata": {},
     "output_type": "execute_result"
    }
   ],
   "source": [
    "pokemon1 = ('Bulbasaur',5,['Tackle','Growl'])\n",
    "pokemon2 = ('Squirtle',5,['Tackle','Tail Whip'])\n",
    "pokemons = (pokemon1,pokemon2)\n",
    "battles(pokemons,10000)"
   ]
  },
  {
   "cell_type": "code",
   "execution_count": 36,
   "metadata": {},
   "outputs": [
    {
     "data": {
      "text/plain": [
       "{'Pikachu': 9138, 'Charmander': 862}"
      ]
     },
     "execution_count": 36,
     "metadata": {},
     "output_type": "execute_result"
    }
   ],
   "source": [
    "pokemon1 = ('Pikachu',5,['Thundershock','Growl'])\n",
    "pokemon2 = ('Charmander',5,['Scratch','Growl'])\n",
    "pokemons = (pokemon1,pokemon2)\n",
    "battles(pokemons,10000)"
   ]
  },
  {
   "cell_type": "markdown",
   "metadata": {},
   "source": [
    "## Running simulations"
   ]
  },
  {
   "cell_type": "code",
   "execution_count": 68,
   "metadata": {},
   "outputs": [],
   "source": [
    "Squirtle = ('Squirtle',5,['Tackle','Tail Whip'])\n",
    "Charmander = ('Charmander',5,['Scratch','Growl'])\n",
    "Bulbasaur = ('Bulbasaur',5,['Tackle','Growl'])\n",
    "Pikachu = ('Pikachu',5,['Thundershock','Growl'])\n",
    "Eevee = ('Eevee',5,['Tackle','Tail Whip'])\n",
    "allPokemons = [Squirtle,Charmander,Bulbasaur,Pikachu,Eevee]"
   ]
  },
  {
   "cell_type": "code",
   "execution_count": 69,
   "metadata": {},
   "outputs": [
    {
     "name": "stdout",
     "output_type": "stream",
     "text": [
      "[('Squirtle', 5, ['Tackle', 'Tail Whip']), ('Charmander', 5, ['Scratch', 'Growl'])]\n",
      "[('Squirtle', 5, ['Tackle', 'Tail Whip']), ('Bulbasaur', 5, ['Tackle', 'Growl'])]\n",
      "[('Squirtle', 5, ['Tackle', 'Tail Whip']), ('Pikachu', 5, ['Thundershock', 'Growl'])]\n",
      "[('Squirtle', 5, ['Tackle', 'Tail Whip']), ('Eevee', 5, ['Tackle', 'Tail Whip'])]\n",
      "[('Charmander', 5, ['Scratch', 'Growl']), ('Bulbasaur', 5, ['Tackle', 'Growl'])]\n",
      "[('Charmander', 5, ['Scratch', 'Growl']), ('Pikachu', 5, ['Thundershock', 'Growl'])]\n",
      "[('Charmander', 5, ['Scratch', 'Growl']), ('Eevee', 5, ['Tackle', 'Tail Whip'])]\n",
      "[('Bulbasaur', 5, ['Tackle', 'Growl']), ('Pikachu', 5, ['Thundershock', 'Growl'])]\n",
      "[('Bulbasaur', 5, ['Tackle', 'Growl']), ('Eevee', 5, ['Tackle', 'Tail Whip'])]\n",
      "[('Pikachu', 5, ['Thundershock', 'Growl']), ('Eevee', 5, ['Tackle', 'Tail Whip'])]\n"
     ]
    }
   ],
   "source": [
    "for combo in combinations(allPokemons,2):\n",
    "    print(list(combo))"
   ]
  },
  {
   "cell_type": "code",
   "execution_count": 70,
   "metadata": {},
   "outputs": [],
   "source": [
    "results = []\n",
    "for combo in combinations(allPokemons,2):\n",
    "    results.append(battles(list(combo),10000))"
   ]
  },
  {
   "cell_type": "code",
   "execution_count": 71,
   "metadata": {},
   "outputs": [
    {
     "data": {
      "text/plain": [
       "[{'Squirtle': [0.4868, 0.004998257296298381],\n",
       "  'Charmander': [0.5132, 0.004998257296298381]},\n",
       " {'Squirtle': [0.5138, 0.004998095237187863],\n",
       "  'Bulbasaur': [0.4862, 0.004998095237187863]},\n",
       " {'Squirtle': [0.0277, 0.0016411188256796035],\n",
       "  'Pikachu': [0.9723, 0.0016411188256796017]},\n",
       " {'Squirtle': [0.1572, 0.003639892306099179],\n",
       "  'Eevee': [0.8428, 0.003639892306099179]},\n",
       " {'Charmander': [0.5769, 0.004940509993917632],\n",
       "  'Bulbasaur': [0.4231, 0.004940509993917632]},\n",
       " {'Charmander': [0.0836, 0.002767869939140927],\n",
       "  'Pikachu': [0.9164, 0.0027678699391409274]},\n",
       " {'Charmander': [0.149, 0.0035608847215263793],\n",
       "  'Eevee': [0.851, 0.0035608847215263797]},\n",
       " {'Bulbasaur': [0.497, 0.004999909999189985],\n",
       "  'Pikachu': [0.503, 0.004999909999189985]},\n",
       " {'Bulbasaur': [0.0944, 0.0029238440450885883],\n",
       "  'Eevee': [0.9056, 0.002923844045088589]},\n",
       " {'Pikachu': [0.3764, 0.004844822390965431],\n",
       "  'Eevee': [0.6236, 0.004844822390965431]}]"
      ]
     },
     "execution_count": 71,
     "metadata": {},
     "output_type": "execute_result"
    }
   ],
   "source": [
    "results"
   ]
  },
  {
   "cell_type": "code",
   "execution_count": 72,
   "metadata": {},
   "outputs": [],
   "source": [
    "def getSeries(pokemonName,results,i=0):\n",
    "    vals = []\n",
    "    ix = []\n",
    "    for d in results:\n",
    "        try:\n",
    "            d[pokemonName]\n",
    "            for key in d.keys():\n",
    "                if key == pokemonName:\n",
    "                    vals.append(d[key][i])\n",
    "                else:\n",
    "                    ix.append(key)\n",
    "        except:\n",
    "            pass\n",
    "                    \n",
    "    return pd.Series(vals,index=ix,name=pokemonName)"
   ]
  },
  {
   "cell_type": "code",
   "execution_count": 73,
   "metadata": {},
   "outputs": [],
   "source": [
    "p = ['Squirtle','Charmander','Bulbasaur','Eevee','Pikachu']"
   ]
  },
  {
   "cell_type": "code",
   "execution_count": 74,
   "metadata": {},
   "outputs": [],
   "source": [
    "means = []\n",
    "stds = []\n",
    "for poke in p:\n",
    "    means.append(getSeries(poke,results,0))\n",
    "    stds.append(getSeries(poke,results,1))"
   ]
  },
  {
   "cell_type": "code",
   "execution_count": 75,
   "metadata": {},
   "outputs": [
    {
     "data": {
      "text/html": [
       "<div>\n",
       "<style scoped>\n",
       "    .dataframe tbody tr th:only-of-type {\n",
       "        vertical-align: middle;\n",
       "    }\n",
       "\n",
       "    .dataframe tbody tr th {\n",
       "        vertical-align: top;\n",
       "    }\n",
       "\n",
       "    .dataframe thead th {\n",
       "        text-align: right;\n",
       "    }\n",
       "</style>\n",
       "<table border=\"1\" class=\"dataframe\">\n",
       "  <thead>\n",
       "    <tr style=\"text-align: right;\">\n",
       "      <th></th>\n",
       "      <th>Squirtle</th>\n",
       "      <th>Charmander</th>\n",
       "      <th>Bulbasaur</th>\n",
       "      <th>Eevee</th>\n",
       "      <th>Pikachu</th>\n",
       "    </tr>\n",
       "  </thead>\n",
       "  <tbody>\n",
       "    <tr>\n",
       "      <th>Charmander</th>\n",
       "      <td>0.4868</td>\n",
       "      <td>NaN</td>\n",
       "      <td>0.4231</td>\n",
       "      <td>0.8510</td>\n",
       "      <td>0.9164</td>\n",
       "    </tr>\n",
       "    <tr>\n",
       "      <th>Bulbasaur</th>\n",
       "      <td>0.5138</td>\n",
       "      <td>0.5769</td>\n",
       "      <td>NaN</td>\n",
       "      <td>0.9056</td>\n",
       "      <td>0.5030</td>\n",
       "    </tr>\n",
       "    <tr>\n",
       "      <th>Pikachu</th>\n",
       "      <td>0.0277</td>\n",
       "      <td>0.0836</td>\n",
       "      <td>0.4970</td>\n",
       "      <td>0.6236</td>\n",
       "      <td>NaN</td>\n",
       "    </tr>\n",
       "    <tr>\n",
       "      <th>Eevee</th>\n",
       "      <td>0.1572</td>\n",
       "      <td>0.1490</td>\n",
       "      <td>0.0944</td>\n",
       "      <td>NaN</td>\n",
       "      <td>0.3764</td>\n",
       "    </tr>\n",
       "    <tr>\n",
       "      <th>Squirtle</th>\n",
       "      <td>NaN</td>\n",
       "      <td>0.5132</td>\n",
       "      <td>0.4862</td>\n",
       "      <td>0.8428</td>\n",
       "      <td>0.9723</td>\n",
       "    </tr>\n",
       "  </tbody>\n",
       "</table>\n",
       "</div>"
      ],
      "text/plain": [
       "            Squirtle  Charmander  Bulbasaur   Eevee  Pikachu\n",
       "Charmander    0.4868         NaN     0.4231  0.8510   0.9164\n",
       "Bulbasaur     0.5138      0.5769        NaN  0.9056   0.5030\n",
       "Pikachu       0.0277      0.0836     0.4970  0.6236      NaN\n",
       "Eevee         0.1572      0.1490     0.0944     NaN   0.3764\n",
       "Squirtle         NaN      0.5132     0.4862  0.8428   0.9723"
      ]
     },
     "execution_count": 75,
     "metadata": {},
     "output_type": "execute_result"
    }
   ],
   "source": [
    "avg = pd.concat(means,axis=1)\n",
    "avg"
   ]
  },
  {
   "cell_type": "code",
   "execution_count": 76,
   "metadata": {},
   "outputs": [
    {
     "data": {
      "text/html": [
       "<div>\n",
       "<style scoped>\n",
       "    .dataframe tbody tr th:only-of-type {\n",
       "        vertical-align: middle;\n",
       "    }\n",
       "\n",
       "    .dataframe tbody tr th {\n",
       "        vertical-align: top;\n",
       "    }\n",
       "\n",
       "    .dataframe thead th {\n",
       "        text-align: right;\n",
       "    }\n",
       "</style>\n",
       "<table border=\"1\" class=\"dataframe\">\n",
       "  <thead>\n",
       "    <tr style=\"text-align: right;\">\n",
       "      <th></th>\n",
       "      <th>Squirtle</th>\n",
       "      <th>Charmander</th>\n",
       "      <th>Bulbasaur</th>\n",
       "      <th>Eevee</th>\n",
       "      <th>Pikachu</th>\n",
       "    </tr>\n",
       "  </thead>\n",
       "  <tbody>\n",
       "    <tr>\n",
       "      <th>Charmander</th>\n",
       "      <td>0.004998</td>\n",
       "      <td>NaN</td>\n",
       "      <td>0.004941</td>\n",
       "      <td>0.003561</td>\n",
       "      <td>0.002768</td>\n",
       "    </tr>\n",
       "    <tr>\n",
       "      <th>Bulbasaur</th>\n",
       "      <td>0.004998</td>\n",
       "      <td>0.004941</td>\n",
       "      <td>NaN</td>\n",
       "      <td>0.002924</td>\n",
       "      <td>0.005000</td>\n",
       "    </tr>\n",
       "    <tr>\n",
       "      <th>Pikachu</th>\n",
       "      <td>0.001641</td>\n",
       "      <td>0.002768</td>\n",
       "      <td>0.005000</td>\n",
       "      <td>0.004845</td>\n",
       "      <td>NaN</td>\n",
       "    </tr>\n",
       "    <tr>\n",
       "      <th>Eevee</th>\n",
       "      <td>0.003640</td>\n",
       "      <td>0.003561</td>\n",
       "      <td>0.002924</td>\n",
       "      <td>NaN</td>\n",
       "      <td>0.004845</td>\n",
       "    </tr>\n",
       "    <tr>\n",
       "      <th>Squirtle</th>\n",
       "      <td>NaN</td>\n",
       "      <td>0.004998</td>\n",
       "      <td>0.004998</td>\n",
       "      <td>0.003640</td>\n",
       "      <td>0.001641</td>\n",
       "    </tr>\n",
       "  </tbody>\n",
       "</table>\n",
       "</div>"
      ],
      "text/plain": [
       "            Squirtle  Charmander  Bulbasaur     Eevee   Pikachu\n",
       "Charmander  0.004998         NaN   0.004941  0.003561  0.002768\n",
       "Bulbasaur   0.004998    0.004941        NaN  0.002924  0.005000\n",
       "Pikachu     0.001641    0.002768   0.005000  0.004845       NaN\n",
       "Eevee       0.003640    0.003561   0.002924       NaN  0.004845\n",
       "Squirtle         NaN    0.004998   0.004998  0.003640  0.001641"
      ]
     },
     "execution_count": 76,
     "metadata": {},
     "output_type": "execute_result"
    }
   ],
   "source": [
    "std = pd.concat(stds,axis=1)\n",
    "std"
   ]
  },
  {
   "cell_type": "code",
   "execution_count": 77,
   "metadata": {},
   "outputs": [
    {
     "data": {
      "text/plain": [
       "{'Squirtle': [0.4927, 0.004999467071598732],\n",
       " 'SquirtleClone': [0.5073, 0.004999467071598732]}"
      ]
     },
     "execution_count": 77,
     "metadata": {},
     "output_type": "execute_result"
    }
   ],
   "source": [
    "pokemon1 = ('Squirtle',5,['Tackle','Tail Whip'])\n",
    "pokemon2 = ('SquirtleClone',5,['Tackle','Tail Whip'])\n",
    "pokemons = (pokemon1,pokemon2)\n",
    "squirtle = battles(pokemons,10000)\n",
    "squirtle"
   ]
  },
  {
   "cell_type": "code",
   "execution_count": 78,
   "metadata": {},
   "outputs": [],
   "source": [
    "avg.loc['Squirtle','Squirtle'] = squirtle['Squirtle'][0]\n",
    "std.loc['Squirtle','Squirtle'] = squirtle['Squirtle'][1]"
   ]
  },
  {
   "cell_type": "code",
   "execution_count": 79,
   "metadata": {},
   "outputs": [
    {
     "data": {
      "text/plain": [
       "{'Charmander': [0.4971, 0.004999915899292707],\n",
       " 'CharmanderClone': [0.5029, 0.004999915899292707]}"
      ]
     },
     "execution_count": 79,
     "metadata": {},
     "output_type": "execute_result"
    }
   ],
   "source": [
    "pokemon1 = ('Charmander',5,['Scratch','Growl'])\n",
    "pokemon2 = ('CharmanderClone',5,['Scratch','Growl'])\n",
    "pokemons = (pokemon1,pokemon2)\n",
    "charmander = battles(pokemons,10000)\n",
    "charmander"
   ]
  },
  {
   "cell_type": "code",
   "execution_count": 80,
   "metadata": {},
   "outputs": [],
   "source": [
    "avg.loc['Charmander','Charmander'] = charmander['Charmander'][0]\n",
    "std.loc['Charmander','Charmander'] = charmander['Charmander'][1]"
   ]
  },
  {
   "cell_type": "code",
   "execution_count": 81,
   "metadata": {},
   "outputs": [
    {
     "data": {
      "text/plain": [
       "{'Bulbasaur': [0.4945, 0.004999697490848822],\n",
       " 'BulbasaurClone': [0.5055, 0.004999697490848822]}"
      ]
     },
     "execution_count": 81,
     "metadata": {},
     "output_type": "execute_result"
    }
   ],
   "source": [
    "pokemon1 = ('Bulbasaur',5,['Tackle','Growl'])\n",
    "pokemon2 = ('BulbasaurClone',5,['Tackle','Growl'])\n",
    "pokemons = (pokemon1,pokemon2)\n",
    "bulb = battles(pokemons,10000)\n",
    "bulb"
   ]
  },
  {
   "cell_type": "code",
   "execution_count": 82,
   "metadata": {},
   "outputs": [],
   "source": [
    "avg.loc['Bulbasaur','Bulbasaur'] = bulb['Bulbasaur'][0]\n",
    "std.loc['Bulbasaur','Bulbasaur'] = bulb['Bulbasaur'][1]"
   ]
  },
  {
   "cell_type": "code",
   "execution_count": 83,
   "metadata": {},
   "outputs": [
    {
     "data": {
      "text/plain": [
       "{'Pikachu': [0.5066, 0.004999564381023611],\n",
       " 'PikachuClone': [0.4934, 0.004999564381023611]}"
      ]
     },
     "execution_count": 83,
     "metadata": {},
     "output_type": "execute_result"
    }
   ],
   "source": [
    "pokemon1 = ('Pikachu',5,['Thundershock','Growl'])\n",
    "pokemon2 = ('PikachuClone',5,['Thundershock','Growl'])\n",
    "pokemons = (pokemon1,pokemon2)\n",
    "pikachu = battles(pokemons,10000)\n",
    "pikachu"
   ]
  },
  {
   "cell_type": "code",
   "execution_count": 84,
   "metadata": {},
   "outputs": [],
   "source": [
    "avg.loc['Pikachu','Pikachu'] = pikachu['Pikachu'][0]\n",
    "std.loc['Pikachu','Pikachu'] = pikachu['Pikachu'][1]"
   ]
  },
  {
   "cell_type": "code",
   "execution_count": 85,
   "metadata": {},
   "outputs": [
    {
     "data": {
      "text/plain": [
       "{'Eevee': [0.5031, 0.004999903899076461],\n",
       " 'EeveeClone': [0.4969, 0.004999903899076461]}"
      ]
     },
     "execution_count": 85,
     "metadata": {},
     "output_type": "execute_result"
    }
   ],
   "source": [
    "pokemon1 = ('Eevee',5,['Tackle','Tail Whip'])\n",
    "pokemon2 = ('EeveeClone',5,['Tackle','Tail Whip'])\n",
    "pokemons = (pokemon1,pokemon2)\n",
    "eevee = battles(pokemons,10000)\n",
    "eevee"
   ]
  },
  {
   "cell_type": "code",
   "execution_count": 86,
   "metadata": {},
   "outputs": [],
   "source": [
    "avg.loc['Eevee','Eevee'] = eevee['Eevee'][0]\n",
    "std.loc['Eevee','Eevee'] = eevee['Eevee'][1]"
   ]
  },
  {
   "cell_type": "code",
   "execution_count": 87,
   "metadata": {},
   "outputs": [
    {
     "data": {
      "text/html": [
       "<div>\n",
       "<style scoped>\n",
       "    .dataframe tbody tr th:only-of-type {\n",
       "        vertical-align: middle;\n",
       "    }\n",
       "\n",
       "    .dataframe tbody tr th {\n",
       "        vertical-align: top;\n",
       "    }\n",
       "\n",
       "    .dataframe thead th {\n",
       "        text-align: right;\n",
       "    }\n",
       "</style>\n",
       "<table border=\"1\" class=\"dataframe\">\n",
       "  <thead>\n",
       "    <tr style=\"text-align: right;\">\n",
       "      <th></th>\n",
       "      <th>Squirtle</th>\n",
       "      <th>Charmander</th>\n",
       "      <th>Bulbasaur</th>\n",
       "      <th>Eevee</th>\n",
       "      <th>Pikachu</th>\n",
       "    </tr>\n",
       "  </thead>\n",
       "  <tbody>\n",
       "    <tr>\n",
       "      <th>Charmander</th>\n",
       "      <td>0.4868</td>\n",
       "      <td>0.4971</td>\n",
       "      <td>0.4231</td>\n",
       "      <td>0.8510</td>\n",
       "      <td>0.9164</td>\n",
       "    </tr>\n",
       "    <tr>\n",
       "      <th>Bulbasaur</th>\n",
       "      <td>0.5138</td>\n",
       "      <td>0.5769</td>\n",
       "      <td>0.4945</td>\n",
       "      <td>0.9056</td>\n",
       "      <td>0.5030</td>\n",
       "    </tr>\n",
       "    <tr>\n",
       "      <th>Pikachu</th>\n",
       "      <td>0.0277</td>\n",
       "      <td>0.0836</td>\n",
       "      <td>0.4970</td>\n",
       "      <td>0.6236</td>\n",
       "      <td>0.5066</td>\n",
       "    </tr>\n",
       "    <tr>\n",
       "      <th>Eevee</th>\n",
       "      <td>0.1572</td>\n",
       "      <td>0.1490</td>\n",
       "      <td>0.0944</td>\n",
       "      <td>0.5031</td>\n",
       "      <td>0.3764</td>\n",
       "    </tr>\n",
       "    <tr>\n",
       "      <th>Squirtle</th>\n",
       "      <td>0.4927</td>\n",
       "      <td>0.5132</td>\n",
       "      <td>0.4862</td>\n",
       "      <td>0.8428</td>\n",
       "      <td>0.9723</td>\n",
       "    </tr>\n",
       "  </tbody>\n",
       "</table>\n",
       "</div>"
      ],
      "text/plain": [
       "            Squirtle  Charmander  Bulbasaur   Eevee  Pikachu\n",
       "Charmander    0.4868      0.4971     0.4231  0.8510   0.9164\n",
       "Bulbasaur     0.5138      0.5769     0.4945  0.9056   0.5030\n",
       "Pikachu       0.0277      0.0836     0.4970  0.6236   0.5066\n",
       "Eevee         0.1572      0.1490     0.0944  0.5031   0.3764\n",
       "Squirtle      0.4927      0.5132     0.4862  0.8428   0.9723"
      ]
     },
     "execution_count": 87,
     "metadata": {},
     "output_type": "execute_result"
    }
   ],
   "source": [
    "avg"
   ]
  },
  {
   "cell_type": "code",
   "execution_count": 88,
   "metadata": {},
   "outputs": [
    {
     "data": {
      "text/html": [
       "<div>\n",
       "<style scoped>\n",
       "    .dataframe tbody tr th:only-of-type {\n",
       "        vertical-align: middle;\n",
       "    }\n",
       "\n",
       "    .dataframe tbody tr th {\n",
       "        vertical-align: top;\n",
       "    }\n",
       "\n",
       "    .dataframe thead th {\n",
       "        text-align: right;\n",
       "    }\n",
       "</style>\n",
       "<table border=\"1\" class=\"dataframe\">\n",
       "  <thead>\n",
       "    <tr style=\"text-align: right;\">\n",
       "      <th></th>\n",
       "      <th>Squirtle</th>\n",
       "      <th>Charmander</th>\n",
       "      <th>Bulbasaur</th>\n",
       "      <th>Eevee</th>\n",
       "      <th>Pikachu</th>\n",
       "    </tr>\n",
       "  </thead>\n",
       "  <tbody>\n",
       "    <tr>\n",
       "      <th>Charmander</th>\n",
       "      <td>0.004998</td>\n",
       "      <td>0.005000</td>\n",
       "      <td>0.004941</td>\n",
       "      <td>0.003561</td>\n",
       "      <td>0.002768</td>\n",
       "    </tr>\n",
       "    <tr>\n",
       "      <th>Bulbasaur</th>\n",
       "      <td>0.004998</td>\n",
       "      <td>0.004941</td>\n",
       "      <td>0.005000</td>\n",
       "      <td>0.002924</td>\n",
       "      <td>0.005000</td>\n",
       "    </tr>\n",
       "    <tr>\n",
       "      <th>Pikachu</th>\n",
       "      <td>0.001641</td>\n",
       "      <td>0.002768</td>\n",
       "      <td>0.005000</td>\n",
       "      <td>0.004845</td>\n",
       "      <td>0.005000</td>\n",
       "    </tr>\n",
       "    <tr>\n",
       "      <th>Eevee</th>\n",
       "      <td>0.003640</td>\n",
       "      <td>0.003561</td>\n",
       "      <td>0.002924</td>\n",
       "      <td>0.005000</td>\n",
       "      <td>0.004845</td>\n",
       "    </tr>\n",
       "    <tr>\n",
       "      <th>Squirtle</th>\n",
       "      <td>0.004999</td>\n",
       "      <td>0.004998</td>\n",
       "      <td>0.004998</td>\n",
       "      <td>0.003640</td>\n",
       "      <td>0.001641</td>\n",
       "    </tr>\n",
       "  </tbody>\n",
       "</table>\n",
       "</div>"
      ],
      "text/plain": [
       "            Squirtle  Charmander  Bulbasaur     Eevee   Pikachu\n",
       "Charmander  0.004998    0.005000   0.004941  0.003561  0.002768\n",
       "Bulbasaur   0.004998    0.004941   0.005000  0.002924  0.005000\n",
       "Pikachu     0.001641    0.002768   0.005000  0.004845  0.005000\n",
       "Eevee       0.003640    0.003561   0.002924  0.005000  0.004845\n",
       "Squirtle    0.004999    0.004998   0.004998  0.003640  0.001641"
      ]
     },
     "execution_count": 88,
     "metadata": {},
     "output_type": "execute_result"
    }
   ],
   "source": [
    "std"
   ]
  },
  {
   "cell_type": "code",
   "execution_count": 109,
   "metadata": {},
   "outputs": [
    {
     "data": {
      "image/png": "[encoded data removed]",
      "text/plain": [
       "<Figure size 720x360 with 1 Axes>"
      ]
     },
     "metadata": {
      "needs_background": "light"
     },
     "output_type": "display_data"
    }
   ],
   "source": [
    "fig,ax = plt.subplots(1,figsize=(10,5))\n",
    "\n",
    "x =[i for i in range(len(avg))]\n",
    "height = avg.loc['Squirtle']\n",
    "ax.bar(x,height,width=0.15,color='blue')\n",
    "\n",
    "x =[i+0.15 for i in range(len(avg))]\n",
    "height = avg.loc['Charmander']\n",
    "ax.bar(x,height,width=0.15,color='red')\n",
    "\n",
    "x =[i+0.3 for i in range(len(avg))]\n",
    "height = avg.loc['Bulbasaur']\n",
    "ax.bar(x,height,width=0.15,color='Green')\n",
    "\n",
    "x =[i+0.45 for i in range(len(avg))]\n",
    "height = avg.loc['Pikachu']\n",
    "ax.bar(x,height,width=0.15,color='Yellow')\n",
    "\n",
    "x =[i+.6 for i in range(len(avg))]\n",
    "height = avg.loc['Eevee']\n",
    "ax.bar(x,height,width=0.15,color='Brown')\n",
    "\n",
    "\n",
    "plt.xticks([i+.25 for i in range(len(avg))],labels = avg.columns,fontsize=15)\n",
    "plt.yticks([i/10 for i in range(0,11)],fontsize=15)\n",
    "plt.xlabel('Pokemon',fontweight='bold',fontsize=15)\n",
    "plt.ylabel('Win %',fontweight='bold',fontsize=15)\n",
    "\n",
    "\n",
    "\n",
    "\n",
    "plt.legend(['Squirtle','Charmander','Bulbasaur','Pikachu','Eevee'],fontsize=15)\n",
    "\n",
    "\n",
    "\n",
    "plt.savefig('winPctGraphAugust3.png')\n",
    "plt.show()\n",
    "\n",
    "\n"
   ]
  },
  {
   "cell_type": "code",
   "execution_count": 2,
   "metadata": {},
   "outputs": [
    {
     "data": {
      "text/plain": [
       "0.5021"
      ]
     },
     "execution_count": 2,
     "metadata": {},
     "output_type": "execute_result"
    }
   ],
   "source": []
  },
  {
   "cell_type": "code",
   "execution_count": null,
   "metadata": {},
   "outputs": [],
   "source": []
  }
 ],
 "metadata": {
  "kernelspec": {
   "display_name": "Python 3",
   "language": "python",
   "name": "python3"
  },
  "language_info": {
   "codemirror_mode": {
    "name": "ipython",
    "version": 3
   },
   "file_extension": ".py",
   "mimetype": "text/x-python",
   "name": "python",
   "nbconvert_exporter": "python",
   "pygments_lexer": "ipython3",
   "version": "3.7.9"
  }
 },
 "nbformat": 4,
 "nbformat_minor": 4
}
