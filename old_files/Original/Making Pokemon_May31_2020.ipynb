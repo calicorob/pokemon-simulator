{
 "cells": [
  {
   "cell_type": "code",
   "execution_count": 1,
   "metadata": {},
   "outputs": [],
   "source": [
    "import json\n",
    "import random\n",
    "import math\n",
    "import matplotlib.pyplot as plt\n",
    "import numpy as np"
   ]
  },
  {
   "cell_type": "code",
   "execution_count": 2,
   "metadata": {},
   "outputs": [],
   "source": [
    "with open(\"pokemon.json\") as file:\n",
    "    pokemon = json.load(file)"
   ]
  },
  {
   "cell_type": "code",
   "execution_count": 3,
   "metadata": {},
   "outputs": [],
   "source": [
    "with open(\"types.json\") as file:\n",
    "    types = json.load(file)"
   ]
  },
  {
   "cell_type": "code",
   "execution_count": 4,
   "metadata": {},
   "outputs": [],
   "source": [
    "with open(\"moves.json\") as file:\n",
    "    moves = json.load(file)"
   ]
  },
  {
   "cell_type": "code",
   "execution_count": 5,
   "metadata": {},
   "outputs": [],
   "source": [
    "typeMultiplier = {-2:0.25,-1:0.5,0:1,1:2,2:4}\n",
    "statsMultiplier = {-6:0.25,-5:0.28,-4:0.33,-3:0.4,-2:0.5,-1:0.66,0:1,1:1.5,2:2,3:2.5,4:3,5:3.5,6:4}"
   ]
  },
  {
   "cell_type": "code",
   "execution_count": 6,
   "metadata": {},
   "outputs": [
    {
     "data": {
      "text/plain": [
       "{'Bulbasaur': {'Type': ['Grass', 'Poison'],\n",
       "  'Base Stats': {'HP': 45,\n",
       "   'Attack': 49,\n",
       "   'Defense': 49,\n",
       "   'Speed': 45,\n",
       "   'Special': 65}},\n",
       " 'Charmander': {'Type': ['Fire'],\n",
       "  'Base Stats': {'HP': 39,\n",
       "   'Attack': 52,\n",
       "   'Defense': 43,\n",
       "   'Speed': 65,\n",
       "   'Special': 50}},\n",
       " 'Squirtle': {'Type': ['Water'],\n",
       "  'Base Stats': {'HP': 44,\n",
       "   'Attack': 48,\n",
       "   'Defense': 65,\n",
       "   'Speed': 43,\n",
       "   'Special': 50}},\n",
       " 'Caterpie': {'Type': ['Bug'],\n",
       "  'Base Stats': {'HP': 45,\n",
       "   'Attack': 30,\n",
       "   'Defense': 35,\n",
       "   'Speed': 45,\n",
       "   'Special': 20}},\n",
       " 'Pikachu': {'Type': ['Electric'],\n",
       "  'Base Stats': {'HP': 35,\n",
       "   'Attack': 55,\n",
       "   'Defense': 30,\n",
       "   'Speed': 90,\n",
       "   'Special': 50}},\n",
       " 'Eevee': {'Type': ['Normal'],\n",
       "  'Base Stats': {'HP': 55,\n",
       "   'Attack': 55,\n",
       "   'Defense': 50,\n",
       "   'Speed': 55,\n",
       "   'Special': 65}}}"
      ]
     },
     "execution_count": 6,
     "metadata": {},
     "output_type": "execute_result"
    }
   ],
   "source": [
    "pokemon"
   ]
  },
  {
   "cell_type": "code",
   "execution_count": 7,
   "metadata": {},
   "outputs": [
    {
     "data": {
      "text/plain": [
       "{'Fire': {'Resistance': ['Grass', 'Bug', 'Steel', 'Ice', 'Fire'],\n",
       "  'Weakness': ['Ground', 'Rock', 'Water']},\n",
       " 'Water': {'Resistance': ['Steel', 'Fire', 'Water', 'Ice'],\n",
       "  'Weakness': ['Grass', 'Electric']},\n",
       " 'Grass': {'Resistance': ['Ground', 'Water', 'Grass', 'Electric'],\n",
       "  'Weakness': ['Flying', 'Poison', 'Bug', 'Fire', 'Ice']},\n",
       " 'Poison': {'Resistance': ['Fighting', 'Poison', 'Grass'],\n",
       "  'Weakness': ['Ground', 'Psychic']},\n",
       " 'Bug': {'Resistance': ['Fighting', 'Ground', 'Grass'],\n",
       "  'Weakness': ['Flying', 'Rock', 'Fire']},\n",
       " 'Electric': {'Resistance': ['Flying', 'Electric'], 'Weakness': ['Ground']},\n",
       " 'Normal': {'Weakness': ['Fighting'], 'Resistance': ['N/A']}}"
      ]
     },
     "execution_count": 7,
     "metadata": {},
     "output_type": "execute_result"
    }
   ],
   "source": [
    "types"
   ]
  },
  {
   "cell_type": "code",
   "execution_count": 8,
   "metadata": {},
   "outputs": [
    {
     "data": {
      "text/plain": [
       "{'Tackle': {'Type': 'Normal',\n",
       "  'Category': 'Physical',\n",
       "  'Power': 40,\n",
       "  'Accuracy': 1,\n",
       "  'CritRatio': 1,\n",
       "  'PP': 35},\n",
       " 'Tail Whip': {'Type': 'Normal',\n",
       "  'Category': 'Status',\n",
       "  'Affects': 'Defense',\n",
       "  'Stages': -1,\n",
       "  'Target': 1,\n",
       "  'Power': None,\n",
       "  'Accuracy': 1,\n",
       "  'PP': 30},\n",
       " 'Scratch': {'Type': 'Normal',\n",
       "  'Category': 'Physical',\n",
       "  'Power': 40,\n",
       "  'Accuracy': 1,\n",
       "  'CritRatio': 1,\n",
       "  'PP': 35},\n",
       " 'Growl': {'Type': 'Normal',\n",
       "  'Category': 'Status',\n",
       "  'Affects': 'Attack',\n",
       "  'Stages': -1,\n",
       "  'Target': 1,\n",
       "  'Power': None,\n",
       "  'Accuracy': 1,\n",
       "  'PP': 40},\n",
       " 'Water Gun': {'Type': 'Water',\n",
       "  'Category': 'Physical',\n",
       "  'Power': 40,\n",
       "  'Accuracy': 1,\n",
       "  'CritRatio': 1,\n",
       "  'PP': 40},\n",
       " 'Ember': {'Type': 'Fire',\n",
       "  'Category': 'Special',\n",
       "  'Power': 40,\n",
       "  'Accuracy': 1,\n",
       "  'CritRatio': 1,\n",
       "  'PP': 40,\n",
       "  'Affliction': 'Burn',\n",
       "  'Chance': 0.1},\n",
       " 'Vine Whip': {'Type': 'Grass',\n",
       "  'Category': 'Physical',\n",
       "  'Power': 45,\n",
       "  'Accuracy': 1,\n",
       "  'CritRatio': 1,\n",
       "  'PP': 25},\n",
       " 'String Shot': {'Type': 'Bug',\n",
       "  'Category': 'Status',\n",
       "  'Affects': 'Speed',\n",
       "  'Stages': -1,\n",
       "  'Target': 1,\n",
       "  'Power': None,\n",
       "  'Accuracy': 0.95,\n",
       "  'PP': 40},\n",
       " 'Thundershock': {'Type': 'Electric',\n",
       "  'Category': 'Special',\n",
       "  'Power': 40,\n",
       "  'Accuracy': 1,\n",
       "  'CritRatio': 1,\n",
       "  'PP': 30,\n",
       "  'Affliction': 'Paralysis',\n",
       "  'Chance': 0.1}}"
      ]
     },
     "execution_count": 8,
     "metadata": {},
     "output_type": "execute_result"
    }
   ],
   "source": [
    "moves"
   ]
  },
  {
   "cell_type": "code",
   "execution_count": 35,
   "metadata": {},
   "outputs": [],
   "source": [
    "class Pokemon(object):\n",
    "    def __init__(self,name,level=1):\n",
    "        \n",
    "        ## BASE STATS & TYPE\n",
    "        self.name = name\n",
    "        self.level = level\n",
    "        self.type = pokemon[self.name]['Type']\n",
    "        self.baseStats = pokemon[self.name]['Base Stats']\n",
    "        \n",
    "        \n",
    "        \n",
    "        ## INDIVIDUAL VALUES\n",
    "      \n",
    "        self.IV = {}\n",
    "        health = \"\"\n",
    "        for cat in ['Attack','Defense','Speed','Special']:\n",
    "            self.IV[cat] = random.choice(range(16))\n",
    "            health = health + '{0:b}'.format(self.IV[cat])[-1]       \n",
    "        self.IV['HP'] = int(health,2)\n",
    "            \n",
    "            \n",
    "        self.stats = {}\n",
    "        for cat in ['Attack','Defense','Speed','Special']:\n",
    "            baseStat = self.baseStats[cat]\n",
    "            ivStat = self.IV[cat]\n",
    "            self.stats[cat] = math.floor((baseStat + ivStat)*2 *self.level/100 + 5 )\n",
    "            \n",
    "            \n",
    "        baseStat = self.baseStats['HP']\n",
    "        ivStat = self.IV['HP']\n",
    "        self.stats['HP'] = math.floor((baseStat + ivStat)*2 *self.level/100 + self.level+10)\n",
    "        \n",
    "        \n",
    "        self.setBattleStats()\n",
    "            \n",
    "    \n",
    "          ## MOVES\n",
    "        self.moves = {}\n",
    "        \n",
    "\n",
    "        \n",
    "        \n",
    "    def setMove(self,move):\n",
    "        if len(self.moves) <= 4:\n",
    "            self.moves[move] = moves[move].copy()\n",
    "        else:\n",
    "            print(self.name + \" already has 4 moves!\")\n",
    "            \n",
    "        self.setBattleMoves()\n",
    "            \n",
    "        \n",
    "    def setBattleStats(self):\n",
    "        self.battleStats = {}\n",
    "        for cat in ['Attack','Defense','Speed','Special']:\n",
    "            self.battleStats[cat] = [self.stats[cat],0]\n",
    "            \n",
    "        self.battleStats['HP'] = self.stats['HP']\n",
    "            \n",
    "        \n",
    "    def setBattleMoves(self):\n",
    "        self.battleMoves = self.moves.copy()\n",
    "        \n",
    "        \n",
    "    def calculateModifier(self,other,moveType,oppType):\n",
    "        \n",
    "        \n",
    "        ## Non GEN1 Factors\n",
    "        Targets = 1\n",
    "        Weather = 1\n",
    "        Badge = 1\n",
    "        Critical = 1\n",
    "        \n",
    "        \n",
    "        rand = random.randint(217,255) / 255\n",
    "        \n",
    "        if moveType in self.type:\n",
    "            STAB = 1.5\n",
    "        else:\n",
    "            STAB = 1\n",
    "        \n",
    "    \n",
    "        Type = self.calculateTypeMultiplier(moveType,oppType)\n",
    "        \n",
    "        return Targets*Weather*Badge*Critical*rand*STAB*Type\n",
    "    \n",
    "    \n",
    "    def calculateTypeMultiplier(self,moveType,oppType):\n",
    "        count = 0\n",
    "        for opType in oppType:\n",
    "            if moveType in types[opType][\"Resistance\"]:\n",
    "                count -=1\n",
    "                \n",
    "            if moveType in types[opType][\"Weakness\"]:\n",
    "                count +=1\n",
    "                \n",
    "     \n",
    "                \n",
    "        return typeMultiplier[count]\n",
    "    \n",
    "    \n",
    "    \n",
    "    def isCriticalHit(self,moveCritRatio):\n",
    "        speed = self.baseStats['Speed']\n",
    "        \n",
    "        T = math.floor(speed*moveCritRatio/2)\n",
    "        rand = random.randint(0,255)\n",
    "        \n",
    "        if rand < T:\n",
    "            print('Critical Hit!')\n",
    "            return 2\n",
    "            \n",
    "        else:\n",
    "            return 1\n",
    "        \n",
    "    def doesMiss(self,moveAcc):\n",
    "        \n",
    "        ## TODO add Evasion and Accuracy stats to pokemon\n",
    "        \n",
    "        T = math.floor(moveAcc*255)*1*1\n",
    "        \n",
    "        rand = random.randint(0,255)\n",
    "        \n",
    "        if rand < T:\n",
    "            return False \n",
    "        else:\n",
    "            print('Attack missed!')\n",
    "            return True \n",
    "    \n",
    "    def calculateDamage(self,other,movePower,moveCritRatio,attackCategory,Modifier):\n",
    "        \n",
    "        doesCrit = self.isCriticalHit(moveCritRatio)\n",
    "        level = self.level*doesCrit\n",
    "        \n",
    "        if attackCategory == 'Physical':\n",
    "            attack = self.battleStats['Attack'][0]\n",
    "            defense = other.battleStats['Defense'][0]\n",
    "        else:\n",
    "            attack = self.battleStats['Special'][0]\n",
    "            defense = other.battleStats['Special'][0]\n",
    "        \n",
    "        if doesCrit == 2:\n",
    "            if attackCategory == 'Physical':\n",
    "                attack = self.stats['Attack']\n",
    "                defense = other.stats['Defense']\n",
    "            else:\n",
    "                attack = self.stats['Special']\n",
    "                defense = other.stats['Special']\n",
    "        \n",
    "\n",
    "        \n",
    "                \n",
    "        return ((2*level/5 + 2)*movePower*attack/defense/50 + 2) * Modifier\n",
    "        \n",
    "\n",
    "    def Attack(self,other,move):\n",
    "        \n",
    "        oppType = other.type\n",
    "        \n",
    "        moveType = moves[move][\"Type\"]\n",
    "        moveAcc = moves[move][\"Accuracy\"]\n",
    "        movePower = moves[move][\"Power\"]\n",
    "        \n",
    "        \n",
    "        moveCategory = moves[move]['Category']\n",
    "        \n",
    "        print(self.name +' used '+ move)\n",
    "    \n",
    "        if moves[move]['Category'] in ['Physical','Special']:\n",
    "            moveCritRatio = moves[move][\"CritRatio\"]\n",
    "            damage= math.floor(self.calculateDamage(other,movePower,moveCritRatio,moveCategory,self.calculateModifier(other,moveType,oppType)))\n",
    "            \n",
    "            if not self.doesMiss(moveAcc):\n",
    "                other.receiveDamage(damage)\n",
    "                \n",
    "            print(self.name + ' inflicted ' + str(damage)+' HP of damage')\n",
    "            \n",
    "        else:\n",
    "            if moves[move]['Target']:\n",
    "                self.changeStatusModifier(other,move)\n",
    "            else:\n",
    "                pass\n",
    "        \n",
    "            \n",
    "        \n",
    "    def receiveDamage(self,damage):\n",
    "        self.battleStats['HP'] -= damage\n",
    "        \n",
    "        if self.battleStats['HP'] < 0:\n",
    "            self.battleStats['HP'] = 0\n",
    "        \n",
    "    def receiveStatusModifier(self,moveAffect,moveStages):\n",
    "        \n",
    "        if moveStages < 0:\n",
    "            if self.battleStats[moveAffect][1] > -6:\n",
    "                self.battleStats[moveAffect][1] += moveStages\n",
    "        else:\n",
    "            if self.battleStats[moveAffect][1] < 6:\n",
    "                self.battleStats[moveAffect][1] += moveStages\n",
    "                \n",
    "        self.battleStats[moveAffect][0] = math.floor(self.stats[moveAffect]*statsMultiplier[self.battleStats[moveAffect][1]])\n",
    "        \n",
    "        \n",
    "    def changeStatusModifier(self,other,move):\n",
    "        moveAffect = moves[move]['Affects']\n",
    "        moveStages = moves[move]['Stages']\n",
    "        \n",
    "        other.receiveStatusModifier(moveAffect,moveStages)\n",
    "        \n",
    "        \n"
   ]
  },
  {
   "cell_type": "code",
   "execution_count": 46,
   "metadata": {},
   "outputs": [],
   "source": [
    "class Battle(object):\n",
    "    def __init__(self,pokemon):\n",
    "        self.pokemon = pokemon.copy()\n",
    "\n",
    "    def battle(self,verbose = False):\n",
    "        \n",
    "        pokes = self.pokemon.copy()\n",
    "        \n",
    "        for poke in pokes:\n",
    "            poke.setBattleStats()\n",
    "        \n",
    "        self.pokemonHealth = {pokes[0]:[pokes[0].battleStats['HP']],pokes[1]:[pokes[1].battleStats['HP']]}\n",
    "        \n",
    "        \n",
    "        while True:\n",
    "        \n",
    "            if pokes[0].battleStats['Speed'] != pokes[1].battleStats['Speed']:\n",
    "                lst = sorted(pokes,key = lambda x: x.battleStats['Speed'])\n",
    "            else:\n",
    "                lst = [random.choice(pokes)]\n",
    "\n",
    "                if pokes[0] not in lst:\n",
    "                    lst.append(pokes[0])\n",
    "                else:\n",
    "                    lst.append(pokes[1])\n",
    "\n",
    "\n",
    "\n",
    "            firstToGo = lst.pop()\n",
    "            secondToGo = lst.pop()\n",
    "            firstToGo.Attack(secondToGo,random.choice(list(firstToGo.moves)))\n",
    "\n",
    "\n",
    "            if firstToGo.battleStats['HP'] <= 0 or secondToGo.battleStats['HP'] <= 0:\n",
    "                self.pokemonHealth[pokes[0]].append(pokes[0].battleStats['HP'])\n",
    "                self.pokemonHealth[pokes[1]].append(pokes[1].battleStats['HP'])\n",
    "                break\n",
    "\n",
    "            secondToGo.Attack(firstToGo,random.choice(list(secondToGo.moves)))\n",
    "            if firstToGo.battleStats['HP'] <= 0 or secondToGo.battleStats['HP'] <= 0:\n",
    "                self.pokemonHealth[pokes[0]].append(pokes[0].battleStats['HP'])\n",
    "                self.pokemonHealth[pokes[1]].append(pokes[1].battleStats['HP'])\n",
    "                break\n",
    "\n",
    "            self.pokemonHealth[pokes[0]].append(pokes[0].battleStats['HP'])\n",
    "            self.pokemonHealth[pokes[1]].append(pokes[1].battleStats['HP'])\n",
    "\n",
    "        \n",
    "        if verbose:\n",
    "            \n",
    "            fig = plt.Figure()\n",
    "            \n",
    "            length = len(self.pokemonHealth[pokes[0]])\n",
    "            color=\"blue\"\n",
    "            \n",
    "            if pokes[0].name == 'Charmander':\n",
    "                color='red'\n",
    "            elif pokes[0].name == 'Bulbasaur':\n",
    "                color='green'\n",
    "            \n",
    "            \n",
    "            one = plt.scatter(range(length),self.pokemonHealth[pokes[0]],marker='v',color=color)\n",
    "            color=\"blue\"\n",
    "            \n",
    "            if pokes[1].name == 'Charmander':\n",
    "                color='red'\n",
    "            elif pokes[1].name == 'Bulbasaur':\n",
    "                color='green'\n",
    "            \n",
    "            \n",
    "            two = plt.scatter(range(length),self.pokemonHealth[pokes[1]],color=color)\n",
    "            plt.legend((one, two), (pokes[0].name+\" Level \" + str(pokes[0].level),pokes[1].name+ \" Level \" + str(pokes[1].level)))\n",
    "            plt.xlabel('Turn #',fontweight='bold',fontsize=15)\n",
    "            plt.xticks(fontweight='bold')\n",
    "            plt.ylabel('Health',fontweight='bold',fontsize=15)\n",
    "            plt.yticks(fontweight='bold')\n",
    "            plt.plot(range(length),[0]*length,color='black')\n",
    "            #plt.show()\n",
    "            #return fig\n",
    "            \n",
    "            \n",
    "      #  if self.pokemonHealth[pokes[0]][-1] > self.pokemonHealth[pokes[1]][-1]:\n",
    "           # return pokes[0].name\n",
    "       # else:\n",
    "           # return pokes[1].name\n",
    "        return self.pokemonHealth\n",
    "        \n",
    "        "
   ]
  },
  {
   "cell_type": "code",
   "execution_count": 11,
   "metadata": {},
   "outputs": [],
   "source": [
    "def runSim(pokemon,numTrials = 1000,verbose=False):\n",
    "    \n",
    "    \n",
    "    results = {pokemon[0][0]:0,pokemon[1][0]:0}\n",
    "\n",
    "      \n",
    "    for i in range(numTrials):\n",
    "        \n",
    "        pokemons = []\n",
    "        for i,tup in enumerate(pokemon):\n",
    "            pokemons.append(Pokemon(tup[0],tup[1]))\n",
    "        \n",
    "            for move in tup[2]:\n",
    "                pokemons[i].setMove(move)\n",
    "                \n",
    "        #print(pokemons[0].name,pokemons[0].stats)\n",
    "        #print(pokemons[1].name,pokemons[1].stats)\n",
    "    \n",
    "        battle = Battle(pokemons)\n",
    "        \n",
    "        result = battle.battle(verbose)\n",
    "        results[result] += 1\n",
    "    \n",
    "    for poke in pokemons:\n",
    "        results[poke.name] = results[poke.name] / numTrials\n",
    "    \n",
    "    return results"
   ]
  },
  {
   "cell_type": "code",
   "execution_count": 12,
   "metadata": {},
   "outputs": [],
   "source": [
    "def runSims(pokemon,numTrials=200):\n",
    "    results = {pokemon[0][0]:0,pokemon[1][0]:0}\n",
    "    for i in range(numTrials):\n",
    "        result = runSim(pokemons)\n",
    "        for key in results.keys():\n",
    "            results[key] += result[key]\n",
    "            \n",
    "    for key in results.keys():\n",
    "        results[key] = results[key] / numTrials\n",
    "        \n",
    "    return results"
   ]
  },
  {
   "cell_type": "markdown",
   "metadata": {},
   "source": [
    "# Testing"
   ]
  },
  {
   "cell_type": "code",
   "execution_count": 37,
   "metadata": {},
   "outputs": [],
   "source": [
    "Squirtle = Pokemon('Squirtle',5)\n",
    "Charmander = Pokemon('Charmander',5)"
   ]
  },
  {
   "cell_type": "code",
   "execution_count": 38,
   "metadata": {},
   "outputs": [
    {
     "data": {
      "text/plain": [
       "{'Attack': 11, 'Defense': 12, 'Speed': 10, 'Special': 11, 'HP': 20}"
      ]
     },
     "execution_count": 38,
     "metadata": {},
     "output_type": "execute_result"
    }
   ],
   "source": [
    "Squirtle.stats"
   ]
  },
  {
   "cell_type": "code",
   "execution_count": 39,
   "metadata": {},
   "outputs": [
    {
     "data": {
      "text/plain": [
       "{'Attack': 11, 'Defense': 9, 'Speed': 12, 'Special': 11, 'HP': 19}"
      ]
     },
     "execution_count": 39,
     "metadata": {},
     "output_type": "execute_result"
    }
   ],
   "source": [
    "Charmander.stats"
   ]
  },
  {
   "cell_type": "code",
   "execution_count": 40,
   "metadata": {},
   "outputs": [],
   "source": [
    "Squirtle.setMove('Tackle')\n",
    "Squirtle.setMove('Tail Whip')\n",
    "\n",
    "Charmander.setMove('Scratch')\n",
    "Charmander.setMove('Growl')"
   ]
  },
  {
   "cell_type": "code",
   "execution_count": 22,
   "metadata": {},
   "outputs": [
    {
     "data": {
      "text/plain": [
       "1"
      ]
     },
     "execution_count": 22,
     "metadata": {},
     "output_type": "execute_result"
    }
   ],
   "source": [
    "Squirtle.moves['Tackle']['Accuracy']"
   ]
  },
  {
   "cell_type": "code",
   "execution_count": 23,
   "metadata": {},
   "outputs": [
    {
     "data": {
      "image/png": "[encoded data removed]",
      "text/plain": [
       "<Figure size 432x288 with 1 Axes>"
      ]
     },
     "metadata": {
      "needs_background": "light"
     },
     "output_type": "display_data"
    }
   ],
   "source": [
    "samples = []\n",
    "for i in range(2000):\n",
    "    hits = []\n",
    "    for i in range(1000):\n",
    "        hits.append(Squirtle.doesMiss(Squirtle.moves['Tackle']['Accuracy']))\n",
    "    \n",
    "     \n",
    "    samples.append(sum(hits)/len(hits))\n",
    "plt.hist(samples)\n",
    "plt.ylabel('Frequency')\n",
    "plt.xlabel('Miss frequency')\n",
    "plt.title(f'Pokemon miss frequency average: {round(sum(samples)/len(samples),5)}' )\n",
    "plt.show()\n",
    "\n",
    "\n",
    "## Expected ~0.0039 \n",
    "## Got ~0.0039 \n",
    "## Looks good! "
   ]
  },
  {
   "cell_type": "code",
   "execution_count": null,
   "metadata": {},
   "outputs": [],
   "source": [
    "damage= math.floor(self.calculateDamage(other,movePower,moveCritRatio,moveCategory,self.calculateModifier(other,moveType,oppType)))\n"
   ]
  },
  {
   "cell_type": "code",
   "execution_count": 26,
   "metadata": {},
   "outputs": [],
   "source": [
    "movePower = Squirtle.moves['Tackle']['Power']\n",
    "moveCritRatio = Squirtle.moves['Tackle']['CritRatio']\n",
    "moveCategory = Squirtle.moves['Tackle']['Category']\n",
    "moveType = Squirtle.moves['Tackle']['Type']\n",
    "oppType = Charmander.type"
   ]
  },
  {
   "cell_type": "code",
   "execution_count": 32,
   "metadata": {},
   "outputs": [
    {
     "name": "stdout",
     "output_type": "stream",
     "text": [
      "4.3724\n"
     ]
    },
    {
     "data": {
      "image/png": "[encoded data removed]",
      "text/plain": [
       "<Figure size 432x288 with 1 Axes>"
      ]
     },
     "metadata": {
      "needs_background": "light"
     },
     "output_type": "display_data"
    }
   ],
   "source": [
    "hits = []\n",
    "for i in range(10000):\n",
    "    hits.append(math.floor(Squirtle.calculateDamage(Charmander,movePower,moveCritRatio,moveCategory,Squirtle.calculateModifier(Charmander,moveType,oppType))))\n",
    "plt.hist(hits)\n",
    "print(sum(hits)/len(hits))"
   ]
  },
  {
   "cell_type": "code",
   "execution_count": 34,
   "metadata": {},
   "outputs": [
    {
     "name": "stdout",
     "output_type": "stream",
     "text": [
      "0.0805\n"
     ]
    }
   ],
   "source": [
    "crits = []\n",
    "for i in range(10000):\n",
    "    if Squirtle.isCriticalHit(Squirtle.moves['Tackle']['CritRatio']) == 2:\n",
    "        crits.append(1)\n",
    "    else:\n",
    "        crits.append(0)\n",
    "print(sum(crits)/len(crits))"
   ]
  },
  {
   "cell_type": "code",
   "execution_count": 47,
   "metadata": {},
   "outputs": [],
   "source": [
    "bat = Battle([Squirtle,Charmander])"
   ]
  },
  {
   "cell_type": "code",
   "execution_count": 48,
   "metadata": {},
   "outputs": [
    {
     "name": "stdout",
     "output_type": "stream",
     "text": [
      "Charmander used Scratch\n",
      "Charmander inflicted 4 HP of damage\n",
      "Squirtle used Tackle\n",
      "Squirtle inflicted 5 HP of damage\n",
      "Charmander used Growl\n",
      "Squirtle used Tackle\n",
      "Squirtle inflicted 3 HP of damage\n",
      "Charmander used Scratch\n",
      "Charmander inflicted 4 HP of damage\n",
      "Squirtle used Tackle\n",
      "Squirtle inflicted 4 HP of damage\n",
      "Charmander used Growl\n",
      "Squirtle used Tail Whip\n",
      "Charmander used Scratch\n",
      "Charmander inflicted 4 HP of damage\n",
      "Squirtle used Tail Whip\n",
      "Charmander used Scratch\n",
      "Charmander inflicted 4 HP of damage\n",
      "Squirtle used Tackle\n",
      "Squirtle inflicted 5 HP of damage\n",
      "Charmander used Scratch\n",
      "Critical Hit!\n",
      "Charmander inflicted 6 HP of damage\n"
     ]
    },
    {
     "data": {
      "text/plain": [
       "{<__main__.Pokemon at 0x27501a32ac8>: [20, 16, 16, 12, 12, 8, 4, 0],\n",
       " <__main__.Pokemon at 0x27501a32688>: [19, 14, 11, 7, 7, 7, 2, 2]}"
      ]
     },
     "execution_count": 48,
     "metadata": {},
     "output_type": "execute_result"
    }
   ],
   "source": [
    "bat.battle()"
   ]
  },
  {
   "cell_type": "code",
   "execution_count": 49,
   "metadata": {},
   "outputs": [],
   "source": [
    "pokemon1 = ('Bulbasaur',5,('Tackle','Growl'))\n",
    "pokemon2 = ('Charmander',5,('Scratch','Growl'))\n",
    "pokemons = (pokemon1,pokemon2)\n",
    "#runSims(pokemons,200)"
   ]
  },
  {
   "cell_type": "code",
   "execution_count": 17,
   "metadata": {},
   "outputs": [
    {
     "data": {
      "text/plain": [
       "{'Squirtle': 0.5015000000000001, 'Charmander': 0.4984999999999999}"
      ]
     },
     "execution_count": 17,
     "metadata": {},
     "output_type": "execute_result"
    }
   ],
   "source": [
    "pokemon1 = ('Squirtle',5,('Tackle','Tail Whip'))\n",
    "pokemon2 = ('Charmander',5,('Scratch','Growl'))\n",
    "pokemons = (pokemon1,pokemon2)\n",
    "runSims(pokemons,200)"
   ]
  },
  {
   "cell_type": "code",
   "execution_count": 170,
   "metadata": {},
   "outputs": [
    {
     "data": {
      "text/plain": [
       "{'Squirtle': 0.5148329999999999, 'Bulbasaur': 0.48516700000000024}"
      ]
     },
     "execution_count": 170,
     "metadata": {},
     "output_type": "execute_result"
    }
   ],
   "source": [
    "pokemon1 = ('Squirtle',5,('Tackle','Tail Whip'))\n",
    "pokemon2 = ('Bulbasaur',5,('Tackle','Growl'))\n",
    "pokemons = (pokemon1,pokemon2)\n",
    "runSims(pokemons,200)"
   ]
  },
  {
   "cell_type": "code",
   "execution_count": null,
   "metadata": {},
   "outputs": [],
   "source": []
  },
  {
   "cell_type": "code",
   "execution_count": null,
   "metadata": {},
   "outputs": [],
   "source": []
  },
  {
   "cell_type": "code",
   "execution_count": null,
   "metadata": {},
   "outputs": [],
   "source": []
  },
  {
   "cell_type": "code",
   "execution_count": null,
   "metadata": {},
   "outputs": [],
   "source": []
  },
  {
   "cell_type": "code",
   "execution_count": null,
   "metadata": {},
   "outputs": [],
   "source": []
  },
  {
   "cell_type": "markdown",
   "metadata": {},
   "source": [
    "# Graphs for article"
   ]
  },
  {
   "cell_type": "code",
   "execution_count": 163,
   "metadata": {},
   "outputs": [
    {
     "data": {
      "image/png": "[encoded data removed]",
      "text/plain": [
       "<Figure size 432x288 with 1 Axes>"
      ]
     },
     "metadata": {
      "needs_background": "light"
     },
     "output_type": "display_data"
    }
   ],
   "source": [
    "pokemon1 = Pokemon('Bulbasaur',5)\n",
    "pokemon1.setMove('Tackle')\n",
    "pokemon1.setMove('Growl')\n",
    "\n",
    "pokemon2 = Pokemon('Charmander',5)\n",
    "pokemon2.setMove('Scratch')\n",
    "pokemon2.setMove('Growl')\n",
    "battle = Battle([pokemon1,pokemon2])\n",
    "battle.battle(True)\n",
    "\n",
    "\n",
    "plt.savefig(r\"C:\\Users\\RobertCurrie\\Google Drive\\Pokemon\\BulbChar.png\")\n",
    "\n"
   ]
  },
  {
   "cell_type": "code",
   "execution_count": 142,
   "metadata": {},
   "outputs": [
    {
     "data": {
      "image/png": "[encoded data removed]",
      "text/plain": [
       "<Figure size 432x288 with 1 Axes>"
      ]
     },
     "metadata": {
      "needs_background": "light"
     },
     "output_type": "display_data"
    }
   ],
   "source": [
    "pokemon1 = Pokemon('Squirtle',5)\n",
    "pokemon1.setMove('Tackle')\n",
    "pokemon1.setMove('Tail Whip')\n",
    "\n",
    "pokemon2 = Pokemon('Charmander',5)\n",
    "pokemon2.setMove('Scratch')\n",
    "pokemon2.setMove('Growl')\n",
    "battle = Battle([pokemon1,pokemon2])\n",
    "battle.battle(True)\n",
    "\n",
    "\n",
    "plt.savefig(r\"C:\\Users\\RobertCurrie\\Google Drive\\Pokemon\\SquirtChare.png\")\n",
    "\n"
   ]
  },
  {
   "cell_type": "code",
   "execution_count": 143,
   "metadata": {},
   "outputs": [
    {
     "data": {
      "image/png": "[encoded data removed]",
      "text/plain": [
       "<Figure size 432x288 with 1 Axes>"
      ]
     },
     "metadata": {
      "needs_background": "light"
     },
     "output_type": "display_data"
    }
   ],
   "source": [
    "pokemon1 = Pokemon('Bulbasaur',5)\n",
    "pokemon1.setMove('Tackle')\n",
    "pokemon1.setMove('Growl')\n",
    "\n",
    "pokemon2 = Pokemon('Squirtle',5)\n",
    "pokemon2.setMove('Tackle')\n",
    "pokemon2.setMove('Tail Whip')\n",
    "battle = Battle([pokemon1,pokemon2])\n",
    "battle.battle(True)\n",
    "\n",
    "\n",
    "plt.savefig(r\"C:\\Users\\RobertCurrie\\Google Drive\\Pokemon\\SquirtBulb.png\")\n",
    "\n"
   ]
  },
  {
   "cell_type": "code",
   "execution_count": null,
   "metadata": {},
   "outputs": [],
   "source": []
  },
  {
   "cell_type": "code",
   "execution_count": null,
   "metadata": {},
   "outputs": [],
   "source": []
  },
  {
   "cell_type": "code",
   "execution_count": null,
   "metadata": {},
   "outputs": [],
   "source": [
    "## TODO add function which makes a pokemon "
   ]
  }
 ],
 "metadata": {
  "kernelspec": {
   "display_name": "Python 3",
   "language": "python",
   "name": "python3"
  },
  "language_info": {
   "codemirror_mode": {
    "name": "ipython",
    "version": 3
   },
   "file_extension": ".py",
   "mimetype": "text/x-python",
   "name": "python",
   "nbconvert_exporter": "python",
   "pygments_lexer": "ipython3",
   "version": "3.7.3"
  }
 },
 "nbformat": 4,
 "nbformat_minor": 4
}
