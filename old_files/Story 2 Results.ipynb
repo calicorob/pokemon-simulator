{
 "cells": [
  {
   "cell_type": "markdown",
   "id": "pursuant-maple",
   "metadata": {},
   "source": [
    "## More Pokemon Battles Notebook\n",
    "## Date: March 19, 2021\n",
    "\n",
    "Purpose of this notebook is to run battle simulations on different Gen 1 Pokemon. "
   ]
  },
  {
   "cell_type": "code",
   "execution_count": 1,
   "id": "cardiovascular-excerpt",
   "metadata": {},
   "outputs": [],
   "source": [
    "## library imports\n",
    "\n",
    "## pokemon library\n",
    "import pokemon\n",
    "\n",
    "## misc testing file\n",
    "from run import hit_rate_testing\n",
    "\n",
    "## iterations\n",
    "from itertools import combinations\n",
    "\n",
    "## data manipulation\n",
    "import pandas as pd\n",
    "\n",
    "## visualization\n",
    "import matplotlib.pyplot as plt"
   ]
  },
  {
   "cell_type": "markdown",
   "id": "confused-reset",
   "metadata": {},
   "source": [
    "## Misc Testing"
   ]
  },
  {
   "cell_type": "code",
   "execution_count": 2,
   "id": "premium-savings",
   "metadata": {},
   "outputs": [
    {
     "name": "stdout",
     "output_type": "stream",
     "text": [
      "0.0038369999999999438\n"
     ]
    },
    {
     "data": {
      "text/plain": [
       "0.0038369999999999438"
      ]
     },
     "execution_count": 2,
     "metadata": {},
     "output_type": "execute_result"
    },
    {
     "data": {
      "image/png": "[encoded data removed]",
      "text/plain": [
       "<Figure size 432x288 with 1 Axes>"
      ]
     },
     "metadata": {
      "needs_background": "light"
     },
     "output_type": "display_data"
    }
   ],
   "source": [
    "## testing hit rate \n",
    "\n",
    "hit_rate_testing()"
   ]
  },
  {
   "cell_type": "markdown",
   "id": "accompanied-earthquake",
   "metadata": {},
   "source": [
    "## Simulations"
   ]
  },
  {
   "cell_type": "code",
   "execution_count": 3,
   "id": "decimal-assessment",
   "metadata": {},
   "outputs": [],
   "source": [
    "## pokemon for battle\n",
    "\n",
    "level = 5\n",
    "num_battles = 100\n",
    "\n",
    "Squirtle = ('Squirtle',level,['Tackle','Tail Whip'])\n",
    "Charmander = ('Charmander',level,['Scratch','Growl'])\n",
    "Bulbasaur = ('Bulbasaur',level,['Tackle','Growl'])\n",
    "Pikachu = ('Pikachu',level,['Thundershock','Growl'])\n",
    "Eevee = ('Eevee',level,['Tackle','Tail Whip'])\n",
    "all_pokemon = [Squirtle,Charmander,Bulbasaur,Pikachu,Eevee]"
   ]
  },
  {
   "cell_type": "code",
   "execution_count": 4,
   "id": "worst-macedonia",
   "metadata": {},
   "outputs": [
    {
     "data": {
      "text/plain": [
       "[{'Squirtle': [0.39, 0.048774993593028795],\n",
       "  'Charmander': [0.61, 0.048774993593028795]},\n",
       " {'Squirtle': [0.44, 0.04963869458396343],\n",
       "  'Bulbasaur': [0.56, 0.04963869458396342]},\n",
       " {'Squirtle': [0.02, 0.014], 'Pikachu': [0.98, 0.014000000000000005]},\n",
       " {'Squirtle': [0.13, 0.03363034344160047],\n",
       "  'Eevee': [0.87, 0.03363034344160047]},\n",
       " {'Charmander': [0.63, 0.048280430818293245],\n",
       "  'Bulbasaur': [0.37, 0.048280430818293245]},\n",
       " {'Charmander': [0.09, 0.02861817604250837],\n",
       "  'Pikachu': [0.91, 0.028618176042508364]},\n",
       " {'Charmander': [0.14, 0.03469870314579494],\n",
       "  'Eevee': [0.86, 0.03469870314579494]},\n",
       " {'Bulbasaur': [0.53, 0.04990991885387112],\n",
       "  'Pikachu': [0.47, 0.04990991885387112]},\n",
       " {'Bulbasaur': [0.11, 0.03128897569432403],\n",
       "  'Eevee': [0.89, 0.031288975694324025]},\n",
       " {'Pikachu': [0.45, 0.049749371855331], 'Eevee': [0.55, 0.049749371855330994]}]"
      ]
     },
     "execution_count": 4,
     "metadata": {},
     "output_type": "execute_result"
    }
   ],
   "source": [
    "## simulations\n",
    "\n",
    "\n",
    "results = []\n",
    "for combo in combinations(all_pokemon,2):\n",
    "    results.append(pokemon.battles(list(combo),num_battles))\n",
    "results"
   ]
  },
  {
   "cell_type": "code",
   "execution_count": 5,
   "id": "ambient-dictionary",
   "metadata": {},
   "outputs": [],
   "source": [
    "## helper function for extracting results\n",
    "\n",
    "def build_series(pokemon_name,results,i=0):\n",
    "    vals = []\n",
    "    ix = []\n",
    "    for result in results:\n",
    "        try:\n",
    "            result[pokemon_name]\n",
    "            for key in result.keys():\n",
    "                if key == pokemon_name:\n",
    "                    vals.append(result[key][i])\n",
    "                else:\n",
    "                    ix.append(key)\n",
    "        except:\n",
    "            pass\n",
    "                    \n",
    "    return pd.Series(vals,index=ix,name=pokemon_name)"
   ]
  },
  {
   "cell_type": "code",
   "execution_count": 6,
   "id": "lightweight-indonesian",
   "metadata": {},
   "outputs": [],
   "source": [
    "## make series' of results\n",
    "\n",
    "poke = ['Squirtle','Charmander','Bulbasaur','Eevee','Pikachu']\n",
    "means = []\n",
    "stds = []\n",
    "\n",
    "for p in poke:\n",
    "    means.append(build_series(p,results,0))\n",
    "    stds.append(build_series(p,results,1))"
   ]
  },
  {
   "cell_type": "code",
   "execution_count": 7,
   "id": "separate-cradle",
   "metadata": {},
   "outputs": [
    {
     "data": {
      "text/html": [
       "<div>\n",
       "<style scoped>\n",
       "    .dataframe tbody tr th:only-of-type {\n",
       "        vertical-align: middle;\n",
       "    }\n",
       "\n",
       "    .dataframe tbody tr th {\n",
       "        vertical-align: top;\n",
       "    }\n",
       "\n",
       "    .dataframe thead th {\n",
       "        text-align: right;\n",
       "    }\n",
       "</style>\n",
       "<table border=\"1\" class=\"dataframe\">\n",
       "  <thead>\n",
       "    <tr style=\"text-align: right;\">\n",
       "      <th></th>\n",
       "      <th>Squirtle</th>\n",
       "      <th>Charmander</th>\n",
       "      <th>Bulbasaur</th>\n",
       "      <th>Eevee</th>\n",
       "      <th>Pikachu</th>\n",
       "    </tr>\n",
       "  </thead>\n",
       "  <tbody>\n",
       "    <tr>\n",
       "      <th>Bulbasaur</th>\n",
       "      <td>0.44</td>\n",
       "      <td>0.63</td>\n",
       "      <td>NaN</td>\n",
       "      <td>0.89</td>\n",
       "      <td>0.47</td>\n",
       "    </tr>\n",
       "    <tr>\n",
       "      <th>Charmander</th>\n",
       "      <td>0.39</td>\n",
       "      <td>NaN</td>\n",
       "      <td>0.37</td>\n",
       "      <td>0.86</td>\n",
       "      <td>0.91</td>\n",
       "    </tr>\n",
       "    <tr>\n",
       "      <th>Eevee</th>\n",
       "      <td>0.13</td>\n",
       "      <td>0.14</td>\n",
       "      <td>0.11</td>\n",
       "      <td>NaN</td>\n",
       "      <td>0.45</td>\n",
       "    </tr>\n",
       "    <tr>\n",
       "      <th>Pikachu</th>\n",
       "      <td>0.02</td>\n",
       "      <td>0.09</td>\n",
       "      <td>0.53</td>\n",
       "      <td>0.55</td>\n",
       "      <td>NaN</td>\n",
       "    </tr>\n",
       "    <tr>\n",
       "      <th>Squirtle</th>\n",
       "      <td>NaN</td>\n",
       "      <td>0.61</td>\n",
       "      <td>0.56</td>\n",
       "      <td>0.87</td>\n",
       "      <td>0.98</td>\n",
       "    </tr>\n",
       "  </tbody>\n",
       "</table>\n",
       "</div>"
      ],
      "text/plain": [
       "            Squirtle  Charmander  Bulbasaur  Eevee  Pikachu\n",
       "Bulbasaur       0.44        0.63        NaN   0.89     0.47\n",
       "Charmander      0.39         NaN       0.37   0.86     0.91\n",
       "Eevee           0.13        0.14       0.11    NaN     0.45\n",
       "Pikachu         0.02        0.09       0.53   0.55      NaN\n",
       "Squirtle         NaN        0.61       0.56   0.87     0.98"
      ]
     },
     "execution_count": 7,
     "metadata": {},
     "output_type": "execute_result"
    }
   ],
   "source": [
    "## win pcts\n",
    "\n",
    "avg = pd.concat(means,axis=1,sort=True)\n",
    "avg"
   ]
  },
  {
   "cell_type": "code",
   "execution_count": 8,
   "id": "vocal-temple",
   "metadata": {},
   "outputs": [
    {
     "data": {
      "text/html": [
       "<div>\n",
       "<style scoped>\n",
       "    .dataframe tbody tr th:only-of-type {\n",
       "        vertical-align: middle;\n",
       "    }\n",
       "\n",
       "    .dataframe tbody tr th {\n",
       "        vertical-align: top;\n",
       "    }\n",
       "\n",
       "    .dataframe thead th {\n",
       "        text-align: right;\n",
       "    }\n",
       "</style>\n",
       "<table border=\"1\" class=\"dataframe\">\n",
       "  <thead>\n",
       "    <tr style=\"text-align: right;\">\n",
       "      <th></th>\n",
       "      <th>Squirtle</th>\n",
       "      <th>Charmander</th>\n",
       "      <th>Bulbasaur</th>\n",
       "      <th>Eevee</th>\n",
       "      <th>Pikachu</th>\n",
       "    </tr>\n",
       "  </thead>\n",
       "  <tbody>\n",
       "    <tr>\n",
       "      <th>Bulbasaur</th>\n",
       "      <td>0.049639</td>\n",
       "      <td>0.048280</td>\n",
       "      <td>NaN</td>\n",
       "      <td>0.031289</td>\n",
       "      <td>0.049910</td>\n",
       "    </tr>\n",
       "    <tr>\n",
       "      <th>Charmander</th>\n",
       "      <td>0.048775</td>\n",
       "      <td>NaN</td>\n",
       "      <td>0.048280</td>\n",
       "      <td>0.034699</td>\n",
       "      <td>0.028618</td>\n",
       "    </tr>\n",
       "    <tr>\n",
       "      <th>Eevee</th>\n",
       "      <td>0.033630</td>\n",
       "      <td>0.034699</td>\n",
       "      <td>0.031289</td>\n",
       "      <td>NaN</td>\n",
       "      <td>0.049749</td>\n",
       "    </tr>\n",
       "    <tr>\n",
       "      <th>Pikachu</th>\n",
       "      <td>0.014000</td>\n",
       "      <td>0.028618</td>\n",
       "      <td>0.049910</td>\n",
       "      <td>0.049749</td>\n",
       "      <td>NaN</td>\n",
       "    </tr>\n",
       "    <tr>\n",
       "      <th>Squirtle</th>\n",
       "      <td>NaN</td>\n",
       "      <td>0.048775</td>\n",
       "      <td>0.049639</td>\n",
       "      <td>0.033630</td>\n",
       "      <td>0.014000</td>\n",
       "    </tr>\n",
       "  </tbody>\n",
       "</table>\n",
       "</div>"
      ],
      "text/plain": [
       "            Squirtle  Charmander  Bulbasaur     Eevee   Pikachu\n",
       "Bulbasaur   0.049639    0.048280        NaN  0.031289  0.049910\n",
       "Charmander  0.048775         NaN   0.048280  0.034699  0.028618\n",
       "Eevee       0.033630    0.034699   0.031289       NaN  0.049749\n",
       "Pikachu     0.014000    0.028618   0.049910  0.049749       NaN\n",
       "Squirtle         NaN    0.048775   0.049639  0.033630  0.014000"
      ]
     },
     "execution_count": 8,
     "metadata": {},
     "output_type": "execute_result"
    }
   ],
   "source": [
    "## std\n",
    "\n",
    "std = pd.concat(stds,axis=1,sort=True)\n",
    "std"
   ]
  },
  {
   "cell_type": "code",
   "execution_count": 9,
   "id": "facial-evanescence",
   "metadata": {},
   "outputs": [],
   "source": [
    "## helper func for clone battles\n",
    "\n",
    "def clone_battle(pokemon_name,moves,level=5,num_battles=100):\n",
    "    pokemon1 = (pokemon_name,level,moves)\n",
    "    pokemon2 = (\"\".join([pokemon_name,\"Clone\"]),level,moves)\n",
    "    pokemons = (pokemon1,pokemon2)\n",
    "    \n",
    "    return pokemon.battles(pokemons,num_battles)\n",
    "    "
   ]
  },
  {
   "cell_type": "code",
   "execution_count": 10,
   "id": "altered-anthropology",
   "metadata": {},
   "outputs": [],
   "source": [
    "## squirtle clone battle\n",
    "\n",
    "squirtle_results = clone_battle('Squirtle',['Tackle','Tail Whip'],level=level,num_battles=num_battles)\n",
    "avg.loc['Squirtle','Squirtle'] = squirtle_results['Squirtle'][0]\n",
    "std.loc['Squirtle','Squirtle'] = squirtle_results['Squirtle'][1]"
   ]
  },
  {
   "cell_type": "code",
   "execution_count": 11,
   "id": "stone-alloy",
   "metadata": {},
   "outputs": [],
   "source": [
    "## charmander clone battle\n",
    "\n",
    "charmander_results = clone_battle('Charmander',['Scratch','Growl'],level=level,num_battles=num_battles)\n",
    "avg.loc['Charmander','Charmander'] = charmander_results['Charmander'][0]\n",
    "std.loc['Charmander','Charmander'] = charmander_results['Charmander'][1]"
   ]
  },
  {
   "cell_type": "code",
   "execution_count": 12,
   "id": "compliant-headline",
   "metadata": {},
   "outputs": [],
   "source": [
    "## bulbasaur clone battle\n",
    "\n",
    "bulb_results = clone_battle('Bulbasaur',['Tackle','Growl'],level=level,num_battles=num_battles)\n",
    "avg.loc['Bulbasaur','Bulbasaur'] = bulb_results['Bulbasaur'][0]\n",
    "std.loc['Bulbasaur','Bulbasaur'] = bulb_results['Bulbasaur'][1]"
   ]
  },
  {
   "cell_type": "code",
   "execution_count": 13,
   "id": "anonymous-flesh",
   "metadata": {},
   "outputs": [],
   "source": [
    "## pikachu clone battle\n",
    "\n",
    "pika_results = clone_battle('Pikachu',['Thundershock','Growl'],level=level,num_battles=num_battles)\n",
    "avg.loc['Pikachu','Pikachu'] = pika_results['Pikachu'][0]\n",
    "std.loc['Pikachu','Pikachu'] = pika_results['Pikachu'][1]"
   ]
  },
  {
   "cell_type": "code",
   "execution_count": 14,
   "id": "affecting-shooting",
   "metadata": {},
   "outputs": [],
   "source": [
    "## squirtle clone battle\n",
    "\n",
    "e_results = clone_battle('Eevee',['Tackle','Tail Whip'],level=level,num_battles=num_battles)\n",
    "avg.loc['Eevee','Eevee'] = e_results['Eevee'][0]\n",
    "std.loc['Eevee','Eevee'] = e_results['Eevee'][1]"
   ]
  },
  {
   "cell_type": "code",
   "execution_count": 15,
   "id": "incident-windsor",
   "metadata": {},
   "outputs": [
    {
     "data": {
      "text/html": [
       "<div>\n",
       "<style scoped>\n",
       "    .dataframe tbody tr th:only-of-type {\n",
       "        vertical-align: middle;\n",
       "    }\n",
       "\n",
       "    .dataframe tbody tr th {\n",
       "        vertical-align: top;\n",
       "    }\n",
       "\n",
       "    .dataframe thead th {\n",
       "        text-align: right;\n",
       "    }\n",
       "</style>\n",
       "<table border=\"1\" class=\"dataframe\">\n",
       "  <thead>\n",
       "    <tr style=\"text-align: right;\">\n",
       "      <th></th>\n",
       "      <th>Squirtle</th>\n",
       "      <th>Charmander</th>\n",
       "      <th>Bulbasaur</th>\n",
       "      <th>Eevee</th>\n",
       "      <th>Pikachu</th>\n",
       "    </tr>\n",
       "  </thead>\n",
       "  <tbody>\n",
       "    <tr>\n",
       "      <th>Bulbasaur</th>\n",
       "      <td>0.44</td>\n",
       "      <td>0.63</td>\n",
       "      <td>0.50</td>\n",
       "      <td>0.89</td>\n",
       "      <td>0.47</td>\n",
       "    </tr>\n",
       "    <tr>\n",
       "      <th>Charmander</th>\n",
       "      <td>0.39</td>\n",
       "      <td>0.52</td>\n",
       "      <td>0.37</td>\n",
       "      <td>0.86</td>\n",
       "      <td>0.91</td>\n",
       "    </tr>\n",
       "    <tr>\n",
       "      <th>Eevee</th>\n",
       "      <td>0.13</td>\n",
       "      <td>0.14</td>\n",
       "      <td>0.11</td>\n",
       "      <td>0.49</td>\n",
       "      <td>0.45</td>\n",
       "    </tr>\n",
       "    <tr>\n",
       "      <th>Pikachu</th>\n",
       "      <td>0.02</td>\n",
       "      <td>0.09</td>\n",
       "      <td>0.53</td>\n",
       "      <td>0.55</td>\n",
       "      <td>0.57</td>\n",
       "    </tr>\n",
       "    <tr>\n",
       "      <th>Squirtle</th>\n",
       "      <td>0.56</td>\n",
       "      <td>0.61</td>\n",
       "      <td>0.56</td>\n",
       "      <td>0.87</td>\n",
       "      <td>0.98</td>\n",
       "    </tr>\n",
       "  </tbody>\n",
       "</table>\n",
       "</div>"
      ],
      "text/plain": [
       "            Squirtle  Charmander  Bulbasaur  Eevee  Pikachu\n",
       "Bulbasaur       0.44        0.63       0.50   0.89     0.47\n",
       "Charmander      0.39        0.52       0.37   0.86     0.91\n",
       "Eevee           0.13        0.14       0.11   0.49     0.45\n",
       "Pikachu         0.02        0.09       0.53   0.55     0.57\n",
       "Squirtle        0.56        0.61       0.56   0.87     0.98"
      ]
     },
     "execution_count": 15,
     "metadata": {},
     "output_type": "execute_result"
    }
   ],
   "source": [
    "avg"
   ]
  },
  {
   "cell_type": "code",
   "execution_count": 16,
   "id": "better-conjunction",
   "metadata": {},
   "outputs": [
    {
     "data": {
      "text/html": [
       "<div>\n",
       "<style scoped>\n",
       "    .dataframe tbody tr th:only-of-type {\n",
       "        vertical-align: middle;\n",
       "    }\n",
       "\n",
       "    .dataframe tbody tr th {\n",
       "        vertical-align: top;\n",
       "    }\n",
       "\n",
       "    .dataframe thead th {\n",
       "        text-align: right;\n",
       "    }\n",
       "</style>\n",
       "<table border=\"1\" class=\"dataframe\">\n",
       "  <thead>\n",
       "    <tr style=\"text-align: right;\">\n",
       "      <th></th>\n",
       "      <th>Squirtle</th>\n",
       "      <th>Charmander</th>\n",
       "      <th>Bulbasaur</th>\n",
       "      <th>Eevee</th>\n",
       "      <th>Pikachu</th>\n",
       "    </tr>\n",
       "  </thead>\n",
       "  <tbody>\n",
       "    <tr>\n",
       "      <th>Bulbasaur</th>\n",
       "      <td>0.049639</td>\n",
       "      <td>0.048280</td>\n",
       "      <td>0.050000</td>\n",
       "      <td>0.031289</td>\n",
       "      <td>0.049910</td>\n",
       "    </tr>\n",
       "    <tr>\n",
       "      <th>Charmander</th>\n",
       "      <td>0.048775</td>\n",
       "      <td>0.049960</td>\n",
       "      <td>0.048280</td>\n",
       "      <td>0.034699</td>\n",
       "      <td>0.028618</td>\n",
       "    </tr>\n",
       "    <tr>\n",
       "      <th>Eevee</th>\n",
       "      <td>0.033630</td>\n",
       "      <td>0.034699</td>\n",
       "      <td>0.031289</td>\n",
       "      <td>0.049990</td>\n",
       "      <td>0.049749</td>\n",
       "    </tr>\n",
       "    <tr>\n",
       "      <th>Pikachu</th>\n",
       "      <td>0.014000</td>\n",
       "      <td>0.028618</td>\n",
       "      <td>0.049910</td>\n",
       "      <td>0.049749</td>\n",
       "      <td>0.049508</td>\n",
       "    </tr>\n",
       "    <tr>\n",
       "      <th>Squirtle</th>\n",
       "      <td>0.049639</td>\n",
       "      <td>0.048775</td>\n",
       "      <td>0.049639</td>\n",
       "      <td>0.033630</td>\n",
       "      <td>0.014000</td>\n",
       "    </tr>\n",
       "  </tbody>\n",
       "</table>\n",
       "</div>"
      ],
      "text/plain": [
       "            Squirtle  Charmander  Bulbasaur     Eevee   Pikachu\n",
       "Bulbasaur   0.049639    0.048280   0.050000  0.031289  0.049910\n",
       "Charmander  0.048775    0.049960   0.048280  0.034699  0.028618\n",
       "Eevee       0.033630    0.034699   0.031289  0.049990  0.049749\n",
       "Pikachu     0.014000    0.028618   0.049910  0.049749  0.049508\n",
       "Squirtle    0.049639    0.048775   0.049639  0.033630  0.014000"
      ]
     },
     "execution_count": 16,
     "metadata": {},
     "output_type": "execute_result"
    }
   ],
   "source": [
    "std"
   ]
  },
  {
   "cell_type": "markdown",
   "id": "twenty-stability",
   "metadata": {},
   "source": [
    "## Visualization"
   ]
  },
  {
   "cell_type": "code",
   "execution_count": 17,
   "id": "integral-charlotte",
   "metadata": {},
   "outputs": [
    {
     "data": {
      "image/png": "[encoded data removed]",
      "text/plain": [
       "<Figure size 720x360 with 1 Axes>"
      ]
     },
     "metadata": {
      "needs_background": "light"
     },
     "output_type": "display_data"
    }
   ],
   "source": [
    "fig,ax = plt.subplots(1,figsize=(10,5))\n",
    "\n",
    "x =[i for i in range(len(avg))]\n",
    "height = avg.loc['Squirtle']\n",
    "ax.bar(x,height,width=0.15,color='blue')\n",
    "\n",
    "x =[i+0.15 for i in range(len(avg))]\n",
    "height = avg.loc['Charmander']\n",
    "ax.bar(x,height,width=0.15,color='red')\n",
    "\n",
    "x =[i+0.3 for i in range(len(avg))]\n",
    "height = avg.loc['Bulbasaur']\n",
    "ax.bar(x,height,width=0.15,color='Green')\n",
    "\n",
    "x =[i+0.45 for i in range(len(avg))]\n",
    "height = avg.loc['Pikachu']\n",
    "ax.bar(x,height,width=0.15,color='Yellow')\n",
    "\n",
    "x =[i+.6 for i in range(len(avg))]\n",
    "height = avg.loc['Eevee']\n",
    "ax.bar(x,height,width=0.15,color='Brown')\n",
    "\n",
    "\n",
    "plt.xticks([i+.25 for i in range(len(avg))],labels = avg.columns,fontsize=15)\n",
    "plt.yticks([i/10 for i in range(0,11)],fontsize=15)\n",
    "plt.xlabel('Pokemon',fontweight='bold',fontsize=15)\n",
    "plt.ylabel('Win %',fontweight='bold',fontsize=15)\n",
    "\n",
    "\n",
    "\n",
    "\n",
    "plt.legend(['Squirtle','Charmander','Bulbasaur','Pikachu','Eevee'],fontsize=15)\n",
    "\n",
    "\n",
    "\n",
    "plt.savefig('WinPctGraph.png')\n",
    "plt.show()\n",
    "\n",
    "\n"
   ]
  },
  {
   "cell_type": "code",
   "execution_count": null,
   "id": "individual-architecture",
   "metadata": {},
   "outputs": [],
   "source": []
  }
 ],
 "metadata": {
  "kernelspec": {
   "display_name": "Python 3",
   "language": "python",
   "name": "python3"
  },
  "language_info": {
   "codemirror_mode": {
    "name": "ipython",
    "version": 3
   },
   "file_extension": ".py",
   "mimetype": "text/x-python",
   "name": "python",
   "nbconvert_exporter": "python",
   "pygments_lexer": "ipython3",
   "version": "3.7.3"
  }
 },
 "nbformat": 4,
 "nbformat_minor": 5
}
